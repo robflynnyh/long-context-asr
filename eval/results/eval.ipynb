{
 "cells": [
  {
   "cell_type": "code",
   "execution_count": 155,
   "metadata": {},
   "outputs": [],
   "source": [
    "def get_percentage_decrease_json(json, min_key=1024):\n",
    "    min_val = json[min_key]['wer']\n",
    "    out = {}\n",
    "    for key in json:\n",
    "        if key != min_key:\n",
    "            out[key] = (min_val - json[key]['wer']) / min_val * 100\n",
    "    return out"
   ]
  },
  {
   "cell_type": "code",
   "execution_count": 1,
   "metadata": {},
   "outputs": [
    {
     "name": "stdout",
     "output_type": "stream",
     "text": [
      "[Errno 2] No such file or directory: './Stanage/users/acp21rjf/long-context-asr/eval/results'\n",
      "/home/robertflynn/Stanage/users/acp21rjf/long-context-asr/eval/results\n"
     ]
    }
   ],
   "source": [
    "%cd ./Stanage/users/acp21rjf/long-context-asr/eval/results"
   ]
  },
  {
   "cell_type": "code",
   "execution_count": 53,
   "metadata": {},
   "outputs": [
    {
     "name": "stdout",
     "output_type": "stream",
     "text": [
      "eval_config_wd.yaml\t    evals_rb_sp2.csv\n",
      "eval.ipynb\t\t    evals_rotary_pos_3l.csv\n",
      "evals_fourier_pos.csv\t    evals_wd.csv\n",
      "evals_fourier_pos_spec1csv  model_sizes.pdf\n",
      "evals_no_rotary.csv\t    wer_pos_earnings.pdf\n",
      "evals_rb.csv\t\t    werr_rb_across_datasets.pdf\n",
      "evals_rb_sp1.csv\n"
     ]
    }
   ],
   "source": [
    "!ls"
   ]
  },
  {
   "cell_type": "code",
   "execution_count": 2,
   "metadata": {},
   "outputs": [],
   "source": [
    "import pandas as pd, matplotlib.pyplot as plt, numpy as np"
   ]
  },
  {
   "cell_type": "code",
   "execution_count": 64,
   "metadata": {},
   "outputs": [],
   "source": [
    "csv = pd.read_csv('evals_fourier_pos_spec1csv', sep=',')"
   ]
  },
  {
   "cell_type": "code",
   "execution_count": 137,
   "metadata": {},
   "outputs": [],
   "source": [
    "csv1 = pd.read_csv('evals_fourier_pos_spec1csv', sep=',')\n",
    "csv2 = pd.read_csv('evals_fourier_pos.csv', sep=',')"
   ]
  },
  {
   "cell_type": "code",
   "execution_count": 138,
   "metadata": {},
   "outputs": [
    {
     "data": {
      "text/html": [
       "<div>\n",
       "<style scoped>\n",
       "    .dataframe tbody tr th:only-of-type {\n",
       "        vertical-align: middle;\n",
       "    }\n",
       "\n",
       "    .dataframe tbody tr th {\n",
       "        vertical-align: top;\n",
       "    }\n",
       "\n",
       "    .dataframe thead th {\n",
       "        text-align: right;\n",
       "    }\n",
       "</style>\n",
       "<table border=\"1\" class=\"dataframe\">\n",
       "  <thead>\n",
       "    <tr style=\"text-align: right;\">\n",
       "      <th></th>\n",
       "      <th>Unnamed: 0</th>\n",
       "      <th>dataset</th>\n",
       "      <th>split</th>\n",
       "      <th>wer</th>\n",
       "      <th>name</th>\n",
       "      <th>checkpoint</th>\n",
       "      <th>repeat</th>\n",
       "      <th>single_utterance</th>\n",
       "      <th>seq_len</th>\n",
       "      <th>overlap_ratio</th>\n",
       "      <th>model_class</th>\n",
       "      <th>cache_len</th>\n",
       "    </tr>\n",
       "  </thead>\n",
       "  <tbody>\n",
       "    <tr>\n",
       "      <th>0</th>\n",
       "      <td>0</td>\n",
       "      <td>earnings22</td>\n",
       "      <td>dev</td>\n",
       "      <td>0.261936</td>\n",
       "      <td>fourier_pos_spec1</td>\n",
       "      <td>/mnt/parscratch/users/acp21rjf/spotify/fourier...</td>\n",
       "      <td>1</td>\n",
       "      <td>False</td>\n",
       "      <td>1024</td>\n",
       "      <td>0.875</td>\n",
       "      <td>SCConformerXL</td>\n",
       "      <td>-1</td>\n",
       "    </tr>\n",
       "    <tr>\n",
       "      <th>1</th>\n",
       "      <td>0</td>\n",
       "      <td>earnings22</td>\n",
       "      <td>dev</td>\n",
       "      <td>0.271091</td>\n",
       "      <td>fourier_pos_spec1</td>\n",
       "      <td>/mnt/parscratch/users/acp21rjf/spotify/fourier...</td>\n",
       "      <td>2</td>\n",
       "      <td>False</td>\n",
       "      <td>1024</td>\n",
       "      <td>0.875</td>\n",
       "      <td>SCConformerXL</td>\n",
       "      <td>-1</td>\n",
       "    </tr>\n",
       "    <tr>\n",
       "      <th>2</th>\n",
       "      <td>0</td>\n",
       "      <td>earnings22</td>\n",
       "      <td>dev</td>\n",
       "      <td>0.253219</td>\n",
       "      <td>fourier_pos_spec1</td>\n",
       "      <td>/mnt/parscratch/users/acp21rjf/spotify/fourier...</td>\n",
       "      <td>1</td>\n",
       "      <td>False</td>\n",
       "      <td>2048</td>\n",
       "      <td>0.875</td>\n",
       "      <td>SCConformerXL</td>\n",
       "      <td>-1</td>\n",
       "    </tr>\n",
       "    <tr>\n",
       "      <th>3</th>\n",
       "      <td>0</td>\n",
       "      <td>earnings22</td>\n",
       "      <td>dev</td>\n",
       "      <td>0.259702</td>\n",
       "      <td>fourier_pos_spec1</td>\n",
       "      <td>/mnt/parscratch/users/acp21rjf/spotify/fourier...</td>\n",
       "      <td>3</td>\n",
       "      <td>False</td>\n",
       "      <td>2048</td>\n",
       "      <td>0.875</td>\n",
       "      <td>SCConformerXL</td>\n",
       "      <td>-1</td>\n",
       "    </tr>\n",
       "    <tr>\n",
       "      <th>4</th>\n",
       "      <td>0</td>\n",
       "      <td>earnings22</td>\n",
       "      <td>dev</td>\n",
       "      <td>0.245007</td>\n",
       "      <td>fourier_pos_spec1</td>\n",
       "      <td>/mnt/parscratch/users/acp21rjf/spotify/fourier...</td>\n",
       "      <td>1</td>\n",
       "      <td>False</td>\n",
       "      <td>4096</td>\n",
       "      <td>0.875</td>\n",
       "      <td>SCConformerXL</td>\n",
       "      <td>-1</td>\n",
       "    </tr>\n",
       "    <tr>\n",
       "      <th>5</th>\n",
       "      <td>0</td>\n",
       "      <td>earnings22</td>\n",
       "      <td>dev</td>\n",
       "      <td>0.237626</td>\n",
       "      <td>fourier_pos_spec1</td>\n",
       "      <td>/mnt/parscratch/users/acp21rjf/spotify/fourier...</td>\n",
       "      <td>1</td>\n",
       "      <td>False</td>\n",
       "      <td>16384</td>\n",
       "      <td>0.875</td>\n",
       "      <td>SCConformerXL</td>\n",
       "      <td>-1</td>\n",
       "    </tr>\n",
       "    <tr>\n",
       "      <th>6</th>\n",
       "      <td>0</td>\n",
       "      <td>earnings22</td>\n",
       "      <td>dev</td>\n",
       "      <td>0.235064</td>\n",
       "      <td>fourier_pos_spec1</td>\n",
       "      <td>/mnt/parscratch/users/acp21rjf/spotify/fourier...</td>\n",
       "      <td>2</td>\n",
       "      <td>False</td>\n",
       "      <td>16384</td>\n",
       "      <td>0.875</td>\n",
       "      <td>SCConformerXL</td>\n",
       "      <td>-1</td>\n",
       "    </tr>\n",
       "    <tr>\n",
       "      <th>7</th>\n",
       "      <td>0</td>\n",
       "      <td>earnings22</td>\n",
       "      <td>dev</td>\n",
       "      <td>0.229763</td>\n",
       "      <td>fourier_pos_spec1</td>\n",
       "      <td>/mnt/parscratch/users/acp21rjf/spotify/fourier...</td>\n",
       "      <td>3</td>\n",
       "      <td>False</td>\n",
       "      <td>16384</td>\n",
       "      <td>0.875</td>\n",
       "      <td>SCConformerXL</td>\n",
       "      <td>-1</td>\n",
       "    </tr>\n",
       "    <tr>\n",
       "      <th>8</th>\n",
       "      <td>0</td>\n",
       "      <td>earnings22</td>\n",
       "      <td>dev</td>\n",
       "      <td>0.236180</td>\n",
       "      <td>fourier_pos_spec1</td>\n",
       "      <td>/mnt/parscratch/users/acp21rjf/spotify/fourier...</td>\n",
       "      <td>1</td>\n",
       "      <td>False</td>\n",
       "      <td>32768</td>\n",
       "      <td>0.875</td>\n",
       "      <td>SCConformerXL</td>\n",
       "      <td>-1</td>\n",
       "    </tr>\n",
       "    <tr>\n",
       "      <th>9</th>\n",
       "      <td>0</td>\n",
       "      <td>earnings22</td>\n",
       "      <td>dev</td>\n",
       "      <td>0.232413</td>\n",
       "      <td>fourier_pos_spec1</td>\n",
       "      <td>/mnt/parscratch/users/acp21rjf/spotify/fourier...</td>\n",
       "      <td>2</td>\n",
       "      <td>False</td>\n",
       "      <td>32768</td>\n",
       "      <td>0.875</td>\n",
       "      <td>SCConformerXL</td>\n",
       "      <td>-1</td>\n",
       "    </tr>\n",
       "    <tr>\n",
       "      <th>10</th>\n",
       "      <td>0</td>\n",
       "      <td>earnings22</td>\n",
       "      <td>dev</td>\n",
       "      <td>0.233005</td>\n",
       "      <td>fourier_pos_spec1</td>\n",
       "      <td>/mnt/parscratch/users/acp21rjf/spotify/fourier...</td>\n",
       "      <td>2</td>\n",
       "      <td>False</td>\n",
       "      <td>65536</td>\n",
       "      <td>0.875</td>\n",
       "      <td>SCConformerXL</td>\n",
       "      <td>-1</td>\n",
       "    </tr>\n",
       "  </tbody>\n",
       "</table>\n",
       "</div>"
      ],
      "text/plain": [
       "    Unnamed: 0     dataset split       wer               name  \\\n",
       "0            0  earnings22   dev  0.261936  fourier_pos_spec1   \n",
       "1            0  earnings22   dev  0.271091  fourier_pos_spec1   \n",
       "2            0  earnings22   dev  0.253219  fourier_pos_spec1   \n",
       "3            0  earnings22   dev  0.259702  fourier_pos_spec1   \n",
       "4            0  earnings22   dev  0.245007  fourier_pos_spec1   \n",
       "5            0  earnings22   dev  0.237626  fourier_pos_spec1   \n",
       "6            0  earnings22   dev  0.235064  fourier_pos_spec1   \n",
       "7            0  earnings22   dev  0.229763  fourier_pos_spec1   \n",
       "8            0  earnings22   dev  0.236180  fourier_pos_spec1   \n",
       "9            0  earnings22   dev  0.232413  fourier_pos_spec1   \n",
       "10           0  earnings22   dev  0.233005  fourier_pos_spec1   \n",
       "\n",
       "                                           checkpoint  repeat  \\\n",
       "0   /mnt/parscratch/users/acp21rjf/spotify/fourier...       1   \n",
       "1   /mnt/parscratch/users/acp21rjf/spotify/fourier...       2   \n",
       "2   /mnt/parscratch/users/acp21rjf/spotify/fourier...       1   \n",
       "3   /mnt/parscratch/users/acp21rjf/spotify/fourier...       3   \n",
       "4   /mnt/parscratch/users/acp21rjf/spotify/fourier...       1   \n",
       "5   /mnt/parscratch/users/acp21rjf/spotify/fourier...       1   \n",
       "6   /mnt/parscratch/users/acp21rjf/spotify/fourier...       2   \n",
       "7   /mnt/parscratch/users/acp21rjf/spotify/fourier...       3   \n",
       "8   /mnt/parscratch/users/acp21rjf/spotify/fourier...       1   \n",
       "9   /mnt/parscratch/users/acp21rjf/spotify/fourier...       2   \n",
       "10  /mnt/parscratch/users/acp21rjf/spotify/fourier...       2   \n",
       "\n",
       "    single_utterance  seq_len  overlap_ratio    model_class  cache_len  \n",
       "0              False     1024          0.875  SCConformerXL         -1  \n",
       "1              False     1024          0.875  SCConformerXL         -1  \n",
       "2              False     2048          0.875  SCConformerXL         -1  \n",
       "3              False     2048          0.875  SCConformerXL         -1  \n",
       "4              False     4096          0.875  SCConformerXL         -1  \n",
       "5              False    16384          0.875  SCConformerXL         -1  \n",
       "6              False    16384          0.875  SCConformerXL         -1  \n",
       "7              False    16384          0.875  SCConformerXL         -1  \n",
       "8              False    32768          0.875  SCConformerXL         -1  \n",
       "9              False    32768          0.875  SCConformerXL         -1  \n",
       "10             False    65536          0.875  SCConformerXL         -1  "
      ]
     },
     "execution_count": 138,
     "metadata": {},
     "output_type": "execute_result"
    }
   ],
   "source": [
    "csv1"
   ]
  },
  {
   "cell_type": "code",
   "execution_count": 136,
   "metadata": {},
   "outputs": [
    {
     "name": "stderr",
     "output_type": "stream",
     "text": [
      "/tmp/ipykernel_9335/3628990326.py:11: MatplotlibDeprecationWarning: The 'basex' parameter of __init__() has been renamed 'base' since Matplotlib 3.3; support for the old name will be dropped two minor releases later.\n",
      "  plt.xscale('log', basex=2)\n"
     ]
    },
    {
     "data": {
      "image/png": "[encoded data removed]",
      "text/plain": [
       "<Figure size 432x288 with 1 Axes>"
      ]
     },
     "metadata": {
      "needs_background": "light"
     },
     "output_type": "display_data"
    }
   ],
   "source": [
    "csv1_data = csv1.loc[csv1['dataset'] == 'earnings22'].loc[csv1['split'] == 'dev']\n",
    "csv2_data = csv2.loc[csv2['dataset'] == 'earnings22'].loc[csv2['split'] == 'dev']\n",
    "seq_lens = [512*2**(i+1) for i in range(9)] + [360000]\n",
    "\n",
    "csv1_vals = [csv1_data.loc[csv1_data['seq_len'] == seq_len].wer.mean() for seq_len in seq_lens]\n",
    "csv2_vals = [csv2_data.loc[csv2_data['seq_len'] == seq_len].wer.mean() for seq_len in seq_lens]\n",
    "\n",
    "csv1_data_dict = {seq_len: {'wer':csv1_data.loc[csv1_data['seq_len'] == seq_len].wer.mean()} for seq_len in seq_lens}\n",
    "csv2_data_dict = {seq_len: {'wer':csv2_data.loc[csv2_data['seq_len'] == seq_len].wer.mean()} for seq_len in seq_lens}\n",
    "\n",
    "plt.xscale('log', basex=2)\n",
    "plt.plot([el/100 for el in seq_lens], [csv1_data_dict[seq_len]['wer']*100 for seq_len in seq_lens], label='augmentation', marker='o', markersize=4)\n",
    "plt.plot([el/100 for el in seq_lens], [csv2_data_dict[seq_len]['wer']*100 for seq_len in seq_lens], label='no augmentation', marker='o', markersize=4)\n",
    "plt.legend()\n",
    "plt.xlabel('Sequence length (seconds)')\n",
    "plt.ylabel('Word Error Rate (%)')\n",
    "#plt.savefig('model_sizes.pdf')\n",
    "plt.show()\n"
   ]
  },
  {
   "cell_type": "code",
   "execution_count": 166,
   "metadata": {},
   "outputs": [
    {
     "name": "stderr",
     "output_type": "stream",
     "text": [
      "/tmp/ipykernel_9335/3663507234.py:13: MatplotlibDeprecationWarning: The 'basex' parameter of __init__() has been renamed 'base' since Matplotlib 3.3; support for the old name will be dropped two minor releases later.\n",
      "  plt.xscale('log', basex=2)\n"
     ]
    },
    {
     "data": {
      "image/png": "[encoded data removed]",
      "text/plain": [
       "<Figure size 432x288 with 1 Axes>"
      ]
     },
     "metadata": {
      "needs_background": "light"
     },
     "output_type": "display_data"
    }
   ],
   "source": [
    "csv1 = pd.read_csv('evals_rotary_pos_3l.csv', sep=',')\n",
    "csv2 = pd.read_csv('evals_rb.csv', sep=',')\n",
    "csv1_data = csv1.loc[csv1['dataset'] == 'earnings22'].loc[csv1['split'] == 'test']\n",
    "csv2_data = csv2.loc[csv2['dataset'] == 'earnings22'].loc[csv2['split'] == 'test']\n",
    "seq_lens = [512*2**(i+1) for i in range(9)] + [360000]\n",
    "\n",
    "csv1_vals = [csv1_data.loc[csv1_data['seq_len'] == seq_len].wer.mean() for seq_len in seq_lens]\n",
    "csv2_vals = [csv2_data.loc[csv2_data['seq_len'] == seq_len].wer.mean() for seq_len in seq_lens]\n",
    "\n",
    "csv1_data_dict = {seq_len: {'wer':csv1_data.loc[csv1_data['seq_len'] == seq_len].wer.mean()} for seq_len in seq_lens}\n",
    "csv2_data_dict = {seq_len: {'wer':csv2_data.loc[csv2_data['seq_len'] == seq_len].wer.mean()} for seq_len in seq_lens}\n",
    "\n",
    "plt.xscale('log', basex=2)\n",
    "plt.plot([el/100 for el in seq_lens[1:]], [get_percentage_decrease_json(csv1_data_dict, min_key=1024)[seq_len] for seq_len in seq_lens[1:]], label='3 Layers, 768 Dim', marker='o', markersize=4)\n",
    "plt.plot([el/100 for el in seq_lens[1:]], [get_percentage_decrease_json(csv2_data_dict, min_key=1024)[seq_len] for seq_len in seq_lens[1:]], label='6 Layers, 768 Dim', marker='o', markersize=4)\n",
    "plt.legend()\n",
    "plt.xlabel('Sequence length (seconds)')\n",
    "plt.ylabel('WER reduction (%) from 10s')\n",
    "plt.savefig('model_sizes.pdf', bbox_inches='tight')\n",
    "plt.show()\n"
   ]
  },
  {
   "cell_type": "code",
   "execution_count": 66,
   "metadata": {},
   "outputs": [
    {
     "data": {
      "text/html": [
       "<div>\n",
       "<style scoped>\n",
       "    .dataframe tbody tr th:only-of-type {\n",
       "        vertical-align: middle;\n",
       "    }\n",
       "\n",
       "    .dataframe tbody tr th {\n",
       "        vertical-align: top;\n",
       "    }\n",
       "\n",
       "    .dataframe thead th {\n",
       "        text-align: right;\n",
       "    }\n",
       "</style>\n",
       "<table border=\"1\" class=\"dataframe\">\n",
       "  <thead>\n",
       "    <tr style=\"text-align: right;\">\n",
       "      <th></th>\n",
       "      <th>Unnamed: 0</th>\n",
       "      <th>dataset</th>\n",
       "      <th>split</th>\n",
       "      <th>wer</th>\n",
       "      <th>name</th>\n",
       "      <th>checkpoint</th>\n",
       "      <th>repeat</th>\n",
       "      <th>single_utterance</th>\n",
       "      <th>seq_len</th>\n",
       "      <th>overlap_ratio</th>\n",
       "      <th>model_class</th>\n",
       "      <th>cache_len</th>\n",
       "    </tr>\n",
       "  </thead>\n",
       "  <tbody>\n",
       "    <tr>\n",
       "      <th>0</th>\n",
       "      <td>0</td>\n",
       "      <td>earnings22</td>\n",
       "      <td>dev</td>\n",
       "      <td>0.311783</td>\n",
       "      <td>rotary_pos_3l</td>\n",
       "      <td>/mnt/parscratch/users/acp21rjf/spotify/rotary_...</td>\n",
       "      <td>1</td>\n",
       "      <td>False</td>\n",
       "      <td>1024</td>\n",
       "      <td>0.875</td>\n",
       "      <td>SCConformerXL</td>\n",
       "      <td>-1</td>\n",
       "    </tr>\n",
       "    <tr>\n",
       "      <th>1</th>\n",
       "      <td>0</td>\n",
       "      <td>earnings22</td>\n",
       "      <td>dev</td>\n",
       "      <td>0.306965</td>\n",
       "      <td>rotary_pos_3l</td>\n",
       "      <td>/mnt/parscratch/users/acp21rjf/spotify/rotary_...</td>\n",
       "      <td>2</td>\n",
       "      <td>False</td>\n",
       "      <td>1024</td>\n",
       "      <td>0.875</td>\n",
       "      <td>SCConformerXL</td>\n",
       "      <td>-1</td>\n",
       "    </tr>\n",
       "    <tr>\n",
       "      <th>2</th>\n",
       "      <td>0</td>\n",
       "      <td>earnings22</td>\n",
       "      <td>dev</td>\n",
       "      <td>0.320083</td>\n",
       "      <td>rotary_pos_3l</td>\n",
       "      <td>/mnt/parscratch/users/acp21rjf/spotify/rotary_...</td>\n",
       "      <td>3</td>\n",
       "      <td>False</td>\n",
       "      <td>1024</td>\n",
       "      <td>0.875</td>\n",
       "      <td>SCConformerXL</td>\n",
       "      <td>-1</td>\n",
       "    </tr>\n",
       "    <tr>\n",
       "      <th>3</th>\n",
       "      <td>0</td>\n",
       "      <td>earnings22</td>\n",
       "      <td>dev</td>\n",
       "      <td>0.300701</td>\n",
       "      <td>rotary_pos_3l</td>\n",
       "      <td>/mnt/parscratch/users/acp21rjf/spotify/rotary_...</td>\n",
       "      <td>1</td>\n",
       "      <td>False</td>\n",
       "      <td>2048</td>\n",
       "      <td>0.875</td>\n",
       "      <td>SCConformerXL</td>\n",
       "      <td>-1</td>\n",
       "    </tr>\n",
       "    <tr>\n",
       "      <th>4</th>\n",
       "      <td>0</td>\n",
       "      <td>earnings22</td>\n",
       "      <td>dev</td>\n",
       "      <td>0.297832</td>\n",
       "      <td>rotary_pos_3l</td>\n",
       "      <td>/mnt/parscratch/users/acp21rjf/spotify/rotary_...</td>\n",
       "      <td>2</td>\n",
       "      <td>False</td>\n",
       "      <td>2048</td>\n",
       "      <td>0.875</td>\n",
       "      <td>SCConformerXL</td>\n",
       "      <td>-1</td>\n",
       "    </tr>\n",
       "    <tr>\n",
       "      <th>5</th>\n",
       "      <td>0</td>\n",
       "      <td>earnings22</td>\n",
       "      <td>dev</td>\n",
       "      <td>0.301161</td>\n",
       "      <td>rotary_pos_3l</td>\n",
       "      <td>/mnt/parscratch/users/acp21rjf/spotify/rotary_...</td>\n",
       "      <td>3</td>\n",
       "      <td>False</td>\n",
       "      <td>2048</td>\n",
       "      <td>0.875</td>\n",
       "      <td>SCConformerXL</td>\n",
       "      <td>-1</td>\n",
       "    </tr>\n",
       "    <tr>\n",
       "      <th>6</th>\n",
       "      <td>0</td>\n",
       "      <td>earnings22</td>\n",
       "      <td>dev</td>\n",
       "      <td>0.300438</td>\n",
       "      <td>rotary_pos_3l</td>\n",
       "      <td>/mnt/parscratch/users/acp21rjf/spotify/rotary_...</td>\n",
       "      <td>1</td>\n",
       "      <td>False</td>\n",
       "      <td>4096</td>\n",
       "      <td>0.875</td>\n",
       "      <td>SCConformerXL</td>\n",
       "      <td>-1</td>\n",
       "    </tr>\n",
       "    <tr>\n",
       "      <th>7</th>\n",
       "      <td>0</td>\n",
       "      <td>earnings22</td>\n",
       "      <td>dev</td>\n",
       "      <td>0.294525</td>\n",
       "      <td>rotary_pos_3l</td>\n",
       "      <td>/mnt/parscratch/users/acp21rjf/spotify/rotary_...</td>\n",
       "      <td>2</td>\n",
       "      <td>False</td>\n",
       "      <td>4096</td>\n",
       "      <td>0.875</td>\n",
       "      <td>SCConformerXL</td>\n",
       "      <td>-1</td>\n",
       "    </tr>\n",
       "    <tr>\n",
       "      <th>8</th>\n",
       "      <td>0</td>\n",
       "      <td>earnings22</td>\n",
       "      <td>dev</td>\n",
       "      <td>0.299978</td>\n",
       "      <td>rotary_pos_3l</td>\n",
       "      <td>/mnt/parscratch/users/acp21rjf/spotify/rotary_...</td>\n",
       "      <td>3</td>\n",
       "      <td>False</td>\n",
       "      <td>4096</td>\n",
       "      <td>0.875</td>\n",
       "      <td>SCConformerXL</td>\n",
       "      <td>-1</td>\n",
       "    </tr>\n",
       "    <tr>\n",
       "      <th>9</th>\n",
       "      <td>0</td>\n",
       "      <td>earnings22</td>\n",
       "      <td>dev</td>\n",
       "      <td>0.288458</td>\n",
       "      <td>rotary_pos_3l</td>\n",
       "      <td>/mnt/parscratch/users/acp21rjf/spotify/rotary_...</td>\n",
       "      <td>1</td>\n",
       "      <td>False</td>\n",
       "      <td>8192</td>\n",
       "      <td>0.875</td>\n",
       "      <td>SCConformerXL</td>\n",
       "      <td>-1</td>\n",
       "    </tr>\n",
       "    <tr>\n",
       "      <th>10</th>\n",
       "      <td>0</td>\n",
       "      <td>earnings22</td>\n",
       "      <td>dev</td>\n",
       "      <td>0.288152</td>\n",
       "      <td>rotary_pos_3l</td>\n",
       "      <td>/mnt/parscratch/users/acp21rjf/spotify/rotary_...</td>\n",
       "      <td>2</td>\n",
       "      <td>False</td>\n",
       "      <td>8192</td>\n",
       "      <td>0.875</td>\n",
       "      <td>SCConformerXL</td>\n",
       "      <td>-1</td>\n",
       "    </tr>\n",
       "    <tr>\n",
       "      <th>11</th>\n",
       "      <td>0</td>\n",
       "      <td>earnings22</td>\n",
       "      <td>dev</td>\n",
       "      <td>0.292948</td>\n",
       "      <td>rotary_pos_3l</td>\n",
       "      <td>/mnt/parscratch/users/acp21rjf/spotify/rotary_...</td>\n",
       "      <td>3</td>\n",
       "      <td>False</td>\n",
       "      <td>8192</td>\n",
       "      <td>0.875</td>\n",
       "      <td>SCConformerXL</td>\n",
       "      <td>-1</td>\n",
       "    </tr>\n",
       "  </tbody>\n",
       "</table>\n",
       "</div>"
      ],
      "text/plain": [
       "    Unnamed: 0     dataset split       wer           name  \\\n",
       "0            0  earnings22   dev  0.311783  rotary_pos_3l   \n",
       "1            0  earnings22   dev  0.306965  rotary_pos_3l   \n",
       "2            0  earnings22   dev  0.320083  rotary_pos_3l   \n",
       "3            0  earnings22   dev  0.300701  rotary_pos_3l   \n",
       "4            0  earnings22   dev  0.297832  rotary_pos_3l   \n",
       "5            0  earnings22   dev  0.301161  rotary_pos_3l   \n",
       "6            0  earnings22   dev  0.300438  rotary_pos_3l   \n",
       "7            0  earnings22   dev  0.294525  rotary_pos_3l   \n",
       "8            0  earnings22   dev  0.299978  rotary_pos_3l   \n",
       "9            0  earnings22   dev  0.288458  rotary_pos_3l   \n",
       "10           0  earnings22   dev  0.288152  rotary_pos_3l   \n",
       "11           0  earnings22   dev  0.292948  rotary_pos_3l   \n",
       "\n",
       "                                           checkpoint  repeat  \\\n",
       "0   /mnt/parscratch/users/acp21rjf/spotify/rotary_...       1   \n",
       "1   /mnt/parscratch/users/acp21rjf/spotify/rotary_...       2   \n",
       "2   /mnt/parscratch/users/acp21rjf/spotify/rotary_...       3   \n",
       "3   /mnt/parscratch/users/acp21rjf/spotify/rotary_...       1   \n",
       "4   /mnt/parscratch/users/acp21rjf/spotify/rotary_...       2   \n",
       "5   /mnt/parscratch/users/acp21rjf/spotify/rotary_...       3   \n",
       "6   /mnt/parscratch/users/acp21rjf/spotify/rotary_...       1   \n",
       "7   /mnt/parscratch/users/acp21rjf/spotify/rotary_...       2   \n",
       "8   /mnt/parscratch/users/acp21rjf/spotify/rotary_...       3   \n",
       "9   /mnt/parscratch/users/acp21rjf/spotify/rotary_...       1   \n",
       "10  /mnt/parscratch/users/acp21rjf/spotify/rotary_...       2   \n",
       "11  /mnt/parscratch/users/acp21rjf/spotify/rotary_...       3   \n",
       "\n",
       "    single_utterance  seq_len  overlap_ratio    model_class  cache_len  \n",
       "0              False     1024          0.875  SCConformerXL         -1  \n",
       "1              False     1024          0.875  SCConformerXL         -1  \n",
       "2              False     1024          0.875  SCConformerXL         -1  \n",
       "3              False     2048          0.875  SCConformerXL         -1  \n",
       "4              False     2048          0.875  SCConformerXL         -1  \n",
       "5              False     2048          0.875  SCConformerXL         -1  \n",
       "6              False     4096          0.875  SCConformerXL         -1  \n",
       "7              False     4096          0.875  SCConformerXL         -1  \n",
       "8              False     4096          0.875  SCConformerXL         -1  \n",
       "9              False     8192          0.875  SCConformerXL         -1  \n",
       "10             False     8192          0.875  SCConformerXL         -1  \n",
       "11             False     8192          0.875  SCConformerXL         -1  "
      ]
     },
     "execution_count": 66,
     "metadata": {},
     "output_type": "execute_result"
    }
   ],
   "source": [
    "csv.loc[csv['dataset'] == 'earnings22'].loc[csv['split'] == 'dev']"
   ]
  },
  {
   "cell_type": "code",
   "execution_count": 152,
   "metadata": {},
   "outputs": [],
   "source": [
    "def get_data(df, dataset='earnings22', split='test'):\n",
    "    seq_lens = df['seq_len'].unique().tolist()\n",
    "    print(seq_lens)\n",
    "\n",
    "    out_data = {}\n",
    "    for seq_len in seq_lens:\n",
    "        sset = df.loc[df['dataset'] == dataset].loc[df['split'] == split].loc[df['seq_len'] == seq_len]\n",
    "        if len(sset) == 3:\n",
    "            out_data[seq_len] = {'wer': sset['wer'].mean()*100, 'std': sset['wer'].std()*100}\n",
    "        else:\n",
    "            print(f'Sequence length {seq_len} has {len(sset)} results')\n",
    "    return out_data"
   ]
  },
  {
   "cell_type": "code",
   "execution_count": 165,
   "metadata": {},
   "outputs": [
    {
     "name": "stdout",
     "output_type": "stream",
     "text": [
      "[4096, 8192, 16384, 32768, 65536, 360000, 2048, 131072, 1024, 262144]\n",
      "[4096, 8192, 16384, 32768, 65536, 360000, 2048, 131072, 1024, 262144]\n",
      "[4096, 8192, 16384, 32768, 65536, 360000, 2048, 131072, 1024, 262144]\n",
      "Sequence length 1024 has 2 results\n"
     ]
    },
    {
     "name": "stderr",
     "output_type": "stream",
     "text": [
      "/tmp/ipykernel_9335/308322289.py:5: MatplotlibDeprecationWarning: The 'basex' parameter of __init__() has been renamed 'base' since Matplotlib 3.3; support for the old name will be dropped two minor releases later.\n",
      "  plt.xscale('log', basex=2)\n"
     ]
    },
    {
     "data": {
      "image/png": "[encoded data removed]",
      "text/plain": [
       "<Figure size 432x288 with 1 Axes>"
      ]
     },
     "metadata": {
      "needs_background": "light"
     },
     "output_type": "display_data"
    }
   ],
   "source": [
    "earnings_test = get_data(pd.read_csv('evals_rb.csv', sep=','))\n",
    "tedlium_test = get_data(pd.read_csv('evals_rb.csv', sep=','), dataset='tedlium')\n",
    "rev16 = get_data(pd.read_csv('evals_rb.csv', sep=','), dataset='rev16')\n",
    "\n",
    "plt.xscale('log', basex=2)\n",
    "plt.plot([el/100 for el in sorted(get_percentage_decrease_json(earnings_test).keys())], [get_percentage_decrease_json(earnings_test)[key] for key in sorted(get_percentage_decrease_json(earnings_test).keys())], label='Earnings-22', marker='o', markersize=4)\n",
    "plt.plot([el/100 for el in sorted(get_percentage_decrease_json(tedlium_test).keys()) if el<=131072], [get_percentage_decrease_json(tedlium_test)[key] for key in sorted(get_percentage_decrease_json(tedlium_test).keys()) if key<=131072], label='Tedlium', marker='o', markersize=4)\n",
    "#plt.plot([el/100 for el in sorted(get_percentage_decrease_json(rev16).keys())], [get_percentage_decrease_json(rev16)[key] for key in sorted(get_percentage_decrease_json(tedlium_test).keys())], label='Rev16', marker='o', markersize=4)\n",
    "\n",
    "plt.legend()\n",
    "plt.xlabel('Sequence length (seconds)')\n",
    "plt.ylabel('WER reduction (%) from 20s')\n",
    "plt.savefig('werr_rb_across_datasets.pdf', bbox_inches='tight') \n",
    "plt.show()"
   ]
  },
  {
   "cell_type": "code",
   "execution_count": 61,
   "metadata": {},
   "outputs": [
    {
     "data": {
      "text/plain": [
       "{4096: {'wer': 19.720333040595275, 'std': 0.27550147126807834},\n",
       " 8192: {'wer': 19.47661159106536, 'std': 0.10006167270516933},\n",
       " 16384: {'wer': 19.286672249113277, 'std': 0.31272326112818755},\n",
       " 2048: {'wer': 20.557700031996948, 'std': 0.20077883544219124},\n",
       " 32768: {'wer': 19.091967403958087, 'std': 0.27479400653754593},\n",
       " 360000: {'wer': 19.20497790848872, 'std': 0.4342514014723085},\n",
       " 65536: {'wer': 19.000061270755467, 'std': 0.06429375748502734},\n",
       " 131072: {'wer': 18.922451647162138, 'std': 0.07077884709336803},\n",
       " 262144: {'wer': 19.456868792081092, 'std': 0.35305245312601996}}"
      ]
     },
     "execution_count": 61,
     "metadata": {},
     "output_type": "execute_result"
    }
   ],
   "source": [
    "no_pos"
   ]
  },
  {
   "cell_type": "code",
   "execution_count": 140,
   "metadata": {},
   "outputs": [],
   "source": [
    "original_results_earnings_test = [\n",
    "    20.53, 19.44, 19.24, 18.67, 18.70, 18.61, 18.81\n",
    "]\n",
    "seq_lens = [1024, 2048, 4096, 8192, 16384, 32768, 360000]"
   ]
  },
  {
   "cell_type": "code",
   "execution_count": 134,
   "metadata": {},
   "outputs": [
    {
     "data": {
      "text/plain": [
       "131072"
      ]
     },
     "execution_count": 134,
     "metadata": {},
     "output_type": "execute_result"
    }
   ],
   "source": [
    "2**17"
   ]
  },
  {
   "cell_type": "code",
   "execution_count": 141,
   "metadata": {},
   "outputs": [
    {
     "name": "stdout",
     "output_type": "stream",
     "text": [
      "eval_config_wd.yaml\t    evals_rb_sp2.csv\n",
      "eval.ipynb\t\t    evals_rotary_pos_3l.csv\n",
      "evals_fourier_pos.csv\t    evals_wd.csv\n",
      "evals_fourier_pos_spec1csv  model_sizes.pdf\n",
      "evals_no_rotary.csv\t    wer_pos_earnings.pdf\n",
      "evals_rb.csv\t\t    werr_rb_across_datasets.pdf\n",
      "evals_rb_sp1.csv\n"
     ]
    }
   ],
   "source": [
    "!ls"
   ]
  },
  {
   "cell_type": "code",
   "execution_count": 149,
   "metadata": {},
   "outputs": [
    {
     "name": "stdout",
     "output_type": "stream",
     "text": [
      "[2048, 4096, 8192, 16384, 32768, 65536, 131072, 262144, 360000, 1024]\n",
      "[4096, 8192, 16384, 32768, 65536, 360000, 2048, 131072, 1024, 262144]\n",
      "[4096, 8192, 16384, 2048, 32768, 360000, 65536, 131072, 262144, 1024]\n",
      "Sequence length 1024 has 2 results\n"
     ]
    },
    {
     "name": "stderr",
     "output_type": "stream",
     "text": [
      "/tmp/ipykernel_9335/3321325134.py:5: MatplotlibDeprecationWarning: The 'basex' parameter of __init__() has been renamed 'base' since Matplotlib 3.3; support for the old name will be dropped two minor releases later.\n",
      "  plt.xscale('log', basex=2)\n"
     ]
    },
    {
     "data": {
      "image/png": "[encoded data removed]",
      "text/plain": [
       "<Figure size 432x288 with 1 Axes>"
      ]
     },
     "metadata": {
      "needs_background": "light"
     },
     "output_type": "display_data"
    }
   ],
   "source": [
    "fourier_pos = get_data(pd.read_csv('evals_fourier_pos.csv', sep=','))\n",
    "rotary_pos = get_data(pd.read_csv('evals_rb.csv', sep=','))\n",
    "no_pos = get_data(pd.read_csv('evals_no_rotary.csv', sep=','))\n",
    "# log scale\n",
    "plt.xscale('log', basex=2)\n",
    "plt.plot([el/100 for el in sorted(fourier_pos.keys())], [fourier_pos[k]['wer'] for k in sorted(fourier_pos.keys())], label='Fourier', marker='o', markersize=4)\n",
    "plt.plot([el/100 for el in sorted(no_pos.keys())], [no_pos[k]['wer'] for k in sorted(no_pos.keys())], label='No positional encoding', marker='o', markersize=4)\n",
    "plt.plot([el/100 for el in sorted(rotary_pos.keys())], [rotary_pos[k]['wer'] for k in sorted(rotary_pos.keys())], label='Rotary (θ = 1.5M)', marker='o', markersize=4)\n",
    "plt.plot([el/100 for el in seq_lens], original_results_earnings_test, label='Rotary (θ = 10k)', marker='o', markersize=4)\n",
    "plt.xlabel('Sequence length (seconds)')\n",
    "plt.ylabel('Word error rate (%)')\n",
    "plt.legend()\n",
    "#plt.savefig('wer_pos_earnings.pdf', bbox_inches='tight')\n",
    "plt.show()"
   ]
  },
  {
   "cell_type": "code",
   "execution_count": null,
   "metadata": {},
   "outputs": [],
   "source": []
  },
  {
   "cell_type": "code",
   "execution_count": 9,
   "metadata": {},
   "outputs": [
    {
     "data": {
      "text/plain": [
       "{}"
      ]
     },
     "execution_count": 9,
     "metadata": {},
     "output_type": "execute_result"
    }
   ],
   "source": [
    "out_data_rb"
   ]
  },
  {
   "cell_type": "code",
   "execution_count": 10,
   "metadata": {},
   "outputs": [],
   "source": [
    "original_results_earnings_test = [\n",
    "    20.53, 19.44, 19.24, 18.67, 18.70, 18.61, 18.81\n",
    "]\n",
    "seq_lens = [1024, 2048, 4096, 8192, 16384, 32768, 360000]"
   ]
  },
  {
   "cell_type": "code",
   "execution_count": 11,
   "metadata": {},
   "outputs": [
    {
     "data": {
      "text/plain": [
       "<matplotlib.legend.Legend at 0x7f3c9852ef70>"
      ]
     },
     "execution_count": 11,
     "metadata": {},
     "output_type": "execute_result"
    },
    {
     "data": {
      "image/png": "[encoded data removed]",
      "text/plain": [
       "<Figure size 432x288 with 1 Axes>"
      ]
     },
     "metadata": {
      "needs_background": "light"
     },
     "output_type": "display_data"
    }
   ],
   "source": [
    "# log x axis\n",
    "plt.xscale('log')\n",
    "# add dots at each point\n",
    "plt.plot([el / 100 for el in seq_lens], original_results_earnings_test, label='Base Frequency 10K', marker='o')\n",
    "plt.plot([el /100 for el in list(out_data.keys())], [out_data[k]['wer'] for k in out_data.keys()], label='Base Frequency 1.5M', marker='o')\n",
    "# add dot\n",
    "plt.xlabel('Sequence Length (seconds)')\n",
    "plt.ylabel('Word Error Rate (%)')\n",
    "plt.legend()\n",
    "#plt.savefig(\"rb_comparison.pdf\")"
   ]
  },
  {
   "cell_type": "code",
   "execution_count": null,
   "metadata": {},
   "outputs": [],
   "source": []
  },
  {
   "cell_type": "code",
   "execution_count": null,
   "metadata": {},
   "outputs": [],
   "source": []
  }
 ],
 "metadata": {
  "kernelspec": {
   "display_name": "ML",
   "language": "python",
   "name": "python3"
  },
  "language_info": {
   "codemirror_mode": {
    "name": "ipython",
    "version": 3
   },
   "file_extension": ".py",
   "mimetype": "text/x-python",
   "name": "python",
   "nbconvert_exporter": "python",
   "pygments_lexer": "ipython3",
   "version": "3.8.11"
  }
 },
 "nbformat": 4,
 "nbformat_minor": 2
}
