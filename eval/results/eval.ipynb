{
 "cells": [
  {
   "cell_type": "code",
   "execution_count": 1,
   "metadata": {},
   "outputs": [
    {
     "name": "stdout",
     "output_type": "stream",
     "text": [
      "[Errno 2] No such file or directory: './Stanage/users/acp21rjf/long-context-asr/eval/results'\n",
      "/home/robertflynn/Stanage/users/acp21rjf/long-context-asr/eval/results\n"
     ]
    }
   ],
   "source": [
    "%cd ./Stanage/users/acp21rjf/long-context-asr/eval/results"
   ]
  },
  {
   "cell_type": "code",
   "execution_count": 2,
   "metadata": {},
   "outputs": [
    {
     "name": "stdout",
     "output_type": "stream",
     "text": [
      "eval_config_1.yaml  eval.ipynb\tevals_1.csv  evals_rb.csv\n"
     ]
    }
   ],
   "source": [
    "!ls"
   ]
  },
  {
   "cell_type": "code",
   "execution_count": 3,
   "metadata": {},
   "outputs": [],
   "source": [
    "import pandas as pd, matplotlib.pyplot as plt, numpy as np"
   ]
  },
  {
   "cell_type": "code",
   "execution_count": 4,
   "metadata": {},
   "outputs": [],
   "source": [
    "csv = pd.read_csv('evals_rb.csv', sep=',')"
   ]
  },
  {
   "cell_type": "code",
   "execution_count": 5,
   "metadata": {},
   "outputs": [
    {
     "data": {
      "text/plain": [
       "[4096, 8192, 16384, 32768, 65536, 360000]"
      ]
     },
     "execution_count": 5,
     "metadata": {},
     "output_type": "execute_result"
    }
   ],
   "source": [
    "seq_lens = csv['seq_len'].unique().tolist()\n",
    "seq_lens"
   ]
  },
  {
   "cell_type": "code",
   "execution_count": 23,
   "metadata": {},
   "outputs": [],
   "source": [
    "out_data_wd = {}\n",
    "out_data_rb = {}\n",
    "for seq_len in seq_lens:\n",
    "    sset = csv.loc[csv['dataset'] == 'rev16'].loc[csv['split'] == 'test'].loc[csv['seq_len'] == seq_len]\n",
    "    wdsset = sset.loc[sset['name'].str.startswith('w')]\n",
    "    out_data_wd[seq_len] = {'wer': wdsset['wer'].mean()*100, 'std': wdsset['wer'].std()*100}\n",
    "    rbset = sset.loc[sset['name'].str.startswith('rb')]\n",
    "    out_data_rb[seq_len] = {'wer': rbset['wer'].mean()*100, 'std': rbset['wer'].std()*100}"
   ]
  },
  {
   "cell_type": "code",
   "execution_count": 25,
   "metadata": {},
   "outputs": [
    {
     "data": {
      "text/plain": [
       "{4096: {'wer': 14.684979495706822, 'std': 0.06479914349690377},\n",
       " 8192: {'wer': 14.483980219619813, 'std': 0.06036572632968231},\n",
       " 16384: {'wer': 14.466227584832936, 'std': 0.017557599458324493},\n",
       " 32768: {'wer': 14.585170237905029, 'std': 0.12590657501035954},\n",
       " 65536: {'wer': 14.46484682434951, 'std': 0.057336094130569046},\n",
       " 360000: {'wer': 14.44354366260525, 'std': 0.034550557910859946}}"
      ]
     },
     "execution_count": 25,
     "metadata": {},
     "output_type": "execute_result"
    }
   ],
   "source": [
    "out_data_rb"
   ]
  },
  {
   "cell_type": "code",
   "execution_count": 22,
   "metadata": {},
   "outputs": [
    {
     "data": {
      "text/plain": [
       "{4096: {'wer': 6.516628271014234, 'std': 0.08344598445938176},\n",
       " 8192: {'wer': 6.406757634827807, 'std': 0.09571565526861074},\n",
       " 16384: {'wer': 6.372496898812684, 'std': 0.14544238545938923},\n",
       " 32768: {'wer': 6.2366353594423725, 'std': 0.060286376382177445},\n",
       " 65536: {'wer': 6.19528619528619, 'std': 0.03683255305835054},\n",
       " 360000: {'wer': 6.1385787701577135, 'std': 0.09296386353786196}}"
      ]
     },
     "execution_count": 22,
     "metadata": {},
     "output_type": "execute_result"
    }
   ],
   "source": [
    "out_data_rb"
   ]
  },
  {
   "cell_type": "code",
   "execution_count": 12,
   "metadata": {},
   "outputs": [
    {
     "data": {
      "image/png": "[encoded data removed]",
      "text/plain": [
       "<Figure size 432x288 with 1 Axes>"
      ]
     },
     "metadata": {
      "needs_background": "light"
     },
     "output_type": "display_data"
    }
   ],
   "source": [
    "# log scale x axis:\n",
    "\n",
    "plt.plot(seq_lens, [out_data_wd[seq_len]['wer'] for seq_len in seq_lens], label='weight decay')\n",
    "plt.plot(seq_lens, [out_data_rb[seq_len]['wer'] for seq_len in seq_lens], label='weight decay + rb 1.5M')\n",
    "plt.legend()\n",
    "plt.xlabel('Sequence length')\n",
    "plt.ylabel('WER')\n",
    "plt.show()"
   ]
  }
 ],
 "metadata": {
  "kernelspec": {
   "display_name": "ML",
   "language": "python",
   "name": "python3"
  },
  "language_info": {
   "codemirror_mode": {
    "name": "ipython",
    "version": 3
   },
   "file_extension": ".py",
   "mimetype": "text/x-python",
   "name": "python",
   "nbconvert_exporter": "python",
   "pygments_lexer": "ipython3",
   "version": "3.8.11"
  }
 },
 "nbformat": 4,
 "nbformat_minor": 2
}
