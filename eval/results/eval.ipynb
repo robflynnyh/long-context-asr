{
 "cells": [
  {
   "cell_type": "code",
   "execution_count": 12,
   "metadata": {},
   "outputs": [
    {
     "name": "stdout",
     "output_type": "stream",
     "text": [
      "/home/robertflynn/Stanage/users/acp21rjf/long-context-asr/eval/results\n"
     ]
    }
   ],
   "source": [
    "%cd ./Stanage/users/acp21rjf/long-context-asr/eval/results"
   ]
  },
  {
   "cell_type": "code",
   "execution_count": 13,
   "metadata": {},
   "outputs": [
    {
     "name": "stdout",
     "output_type": "stream",
     "text": [
      "evals.csv\n"
     ]
    }
   ],
   "source": [
    "!ls"
   ]
  },
  {
   "cell_type": "code",
   "execution_count": 68,
   "metadata": {},
   "outputs": [],
   "source": [
    "import pandas as pd, matplotlib.pyplot as plt, numpy as np"
   ]
  },
  {
   "cell_type": "code",
   "execution_count": 19,
   "metadata": {},
   "outputs": [],
   "source": [
    "csv = pd.read_csv('evals.csv', sep=',')"
   ]
  },
  {
   "cell_type": "code",
   "execution_count": 81,
   "metadata": {},
   "outputs": [],
   "source": [
    "seq_lens = [2048, 4096, 8192, 16384, 32768, 360000]"
   ]
  },
  {
   "cell_type": "code",
   "execution_count": 91,
   "metadata": {},
   "outputs": [],
   "source": [
    "out_data_wd = {}\n",
    "out_data_rb = {}\n",
    "for seq_len in seq_lens:\n",
    "    sset = csv.loc[csv['dataset'] == 'earnings22'].loc[csv['split'] == 'test'].loc[csv['seq_len'] == seq_len]\n",
    "    wdsset = sset.loc[sset['name'].str.startswith('w')]\n",
    "    out_data_wd[seq_len] = {'wer': wdsset['wer'].mean(), 'std': wdsset['wer'].std()}\n",
    "    rbset = sset.loc[sset['name'].str.startswith('rb')]\n",
    "    out_data_rb[seq_len] = {'wer': rbset['wer'].mean(), 'std': rbset['wer'].std()}"
   ]
  },
  {
   "cell_type": "code",
   "execution_count": 93,
   "metadata": {},
   "outputs": [
    {
     "data": {
      "text/plain": [
       "{2048: {'wer': 0.1946231508145606, 'std': 0.00289787091969043},\n",
       " 4096: {'wer': 0.191580036626296, 'std': 0.0007140470152401878},\n",
       " 8192: {'wer': 0.18826460796928288, 'std': 0.003558102729328109},\n",
       " 16384: {'wer': 0.18548019252632938, 'std': 0.0022391863399718087},\n",
       " 32768: {'wer': 0.18906793565209098, 'std': 0.00413608275675701},\n",
       " 360000: {'wer': 0.18850288312943783, 'std': 0.0005268071025646326}}"
      ]
     },
     "execution_count": 93,
     "metadata": {},
     "output_type": "execute_result"
    }
   ],
   "source": [
    "out_data_wd"
   ]
  },
  {
   "cell_type": "code",
   "execution_count": 94,
   "metadata": {},
   "outputs": [
    {
     "data": {
      "image/png": "[encoded data removed]",
      "text/plain": [
       "<Figure size 432x288 with 1 Axes>"
      ]
     },
     "metadata": {
      "needs_background": "light"
     },
     "output_type": "display_data"
    }
   ],
   "source": [
    "# log scale x axis:\n",
    "\n",
    "plt.plot(seq_lens, [out_data_wd[seq_len]['wer'] for seq_len in seq_lens], label='weight decay')\n",
    "plt.plot(seq_lens, [out_data_rb[seq_len]['wer'] for seq_len in seq_lens], label='weight decay + rb 1.5M')\n",
    "plt.legend()\n",
    "plt.xlabel('Sequence length')\n",
    "plt.ylabel('WER')\n",
    "plt.show()"
   ]
  }
 ],
 "metadata": {
  "kernelspec": {
   "display_name": "ML",
   "language": "python",
   "name": "python3"
  },
  "language_info": {
   "codemirror_mode": {
    "name": "ipython",
    "version": 3
   },
   "file_extension": ".py",
   "mimetype": "text/x-python",
   "name": "python",
   "nbconvert_exporter": "python",
   "pygments_lexer": "ipython3",
   "version": "3.8.11"
  }
 },
 "nbformat": 4,
 "nbformat_minor": 2
}
