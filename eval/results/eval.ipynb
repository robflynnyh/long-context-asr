{
 "cells": [
  {
   "cell_type": "code",
   "execution_count": 4,
   "metadata": {},
   "outputs": [
    {
     "name": "stdout",
     "output_type": "stream",
     "text": [
      "[Errno 2] No such file or directory: './Stanage/users/acp21rjf/long-context-asr/eval/results'\n",
      "/home/robertflynn/Stanage/users/acp21rjf/long-context-asr/eval/results\n"
     ]
    }
   ],
   "source": [
    "%cd ./Stanage/users/acp21rjf/long-context-asr/eval/results"
   ]
  },
  {
   "cell_type": "code",
   "execution_count": 6,
   "metadata": {},
   "outputs": [
    {
     "name": "stdout",
     "output_type": "stream",
     "text": [
      "eval_config_wd.yaml    evals_rb.csv\t wer_pos_earnings.pdf\n",
      "eval.ipynb\t       evals_rb_sp1.csv  werr_rb_across_datasets.pdf\n",
      "evals_fourier_pos.csv  evals_rb_sp2.csv\n",
      "evals_no_rotary.csv    evals_wd.csv\n"
     ]
    }
   ],
   "source": [
    "!ls"
   ]
  },
  {
   "cell_type": "code",
   "execution_count": 7,
   "metadata": {},
   "outputs": [],
   "source": [
    "import pandas as pd, matplotlib.pyplot as plt, numpy as np"
   ]
  },
  {
   "cell_type": "code",
   "execution_count": 8,
   "metadata": {},
   "outputs": [
    {
     "ename": "NameError",
     "evalue": "name 'csv' is not defined",
     "output_type": "error",
     "traceback": [
      "\u001b[0;31m---------------------------------------------------------------------------\u001b[0m",
      "\u001b[0;31mNameError\u001b[0m                                 Traceback (most recent call last)",
      "\u001b[0;32m/tmp/ipykernel_21425/406105638.py\u001b[0m in \u001b[0;36m<module>\u001b[0;34m\u001b[0m\n\u001b[0;32m----> 1\u001b[0;31m \u001b[0mcsv\u001b[0m\u001b[0;34m.\u001b[0m\u001b[0mloc\u001b[0m\u001b[0;34m[\u001b[0m\u001b[0mcsv\u001b[0m\u001b[0;34m[\u001b[0m\u001b[0;34m'seq_len'\u001b[0m\u001b[0;34m]\u001b[0m \u001b[0;34m==\u001b[0m \u001b[0;36m1024\u001b[0m\u001b[0;34m]\u001b[0m\u001b[0;34m.\u001b[0m\u001b[0miloc\u001b[0m\u001b[0;34m[\u001b[0m\u001b[0;36m0\u001b[0m\u001b[0;34m]\u001b[0m\u001b[0;34m.\u001b[0m\u001b[0mcheckpoint\u001b[0m\u001b[0;34m\u001b[0m\u001b[0;34m\u001b[0m\u001b[0m\n\u001b[0m",
      "\u001b[0;31mNameError\u001b[0m: name 'csv' is not defined"
     ]
    }
   ],
   "source": [
    "csv.loc[csv['seq_len'] == 1024].iloc[0].checkpoint"
   ]
  },
  {
   "cell_type": "code",
   "execution_count": 9,
   "metadata": {},
   "outputs": [],
   "source": [
    "csv = pd.read_csv('evals_rb.csv', sep=',')"
   ]
  },
  {
   "cell_type": "code",
   "execution_count": 21,
   "metadata": {},
   "outputs": [
    {
     "data": {
      "text/html": [
       "<div>\n",
       "<style scoped>\n",
       "    .dataframe tbody tr th:only-of-type {\n",
       "        vertical-align: middle;\n",
       "    }\n",
       "\n",
       "    .dataframe tbody tr th {\n",
       "        vertical-align: top;\n",
       "    }\n",
       "\n",
       "    .dataframe thead th {\n",
       "        text-align: right;\n",
       "    }\n",
       "</style>\n",
       "<table border=\"1\" class=\"dataframe\">\n",
       "  <thead>\n",
       "    <tr style=\"text-align: right;\">\n",
       "      <th></th>\n",
       "      <th>Unnamed: 0</th>\n",
       "      <th>dataset</th>\n",
       "      <th>split</th>\n",
       "      <th>wer</th>\n",
       "      <th>name</th>\n",
       "      <th>checkpoint</th>\n",
       "      <th>repeat</th>\n",
       "      <th>single_utterance</th>\n",
       "      <th>seq_len</th>\n",
       "      <th>overlap_ratio</th>\n",
       "      <th>model_class</th>\n",
       "      <th>cache_len</th>\n",
       "    </tr>\n",
       "  </thead>\n",
       "  <tbody>\n",
       "    <tr>\n",
       "      <th>145</th>\n",
       "      <td>0</td>\n",
       "      <td>tedlium_concat</td>\n",
       "      <td>dev</td>\n",
       "      <td>0.077705</td>\n",
       "      <td>rb_n_seq_sched</td>\n",
       "      <td>/mnt/parscratch/users/acp21rjf/spotify/checkpo...</td>\n",
       "      <td>1</td>\n",
       "      <td>False</td>\n",
       "      <td>1024</td>\n",
       "      <td>0.875</td>\n",
       "      <td>SCConformerXL</td>\n",
       "      <td>-1</td>\n",
       "    </tr>\n",
       "    <tr>\n",
       "      <th>146</th>\n",
       "      <td>0</td>\n",
       "      <td>tedlium_concat</td>\n",
       "      <td>dev</td>\n",
       "      <td>0.076932</td>\n",
       "      <td>rb_n_seq_sched</td>\n",
       "      <td>/mnt/parscratch/users/acp21rjf/spotify/checkpo...</td>\n",
       "      <td>2</td>\n",
       "      <td>False</td>\n",
       "      <td>1024</td>\n",
       "      <td>0.875</td>\n",
       "      <td>SCConformerXL</td>\n",
       "      <td>-1</td>\n",
       "    </tr>\n",
       "    <tr>\n",
       "      <th>147</th>\n",
       "      <td>0</td>\n",
       "      <td>tedlium_concat</td>\n",
       "      <td>dev</td>\n",
       "      <td>0.071405</td>\n",
       "      <td>rb_n_seq_sched</td>\n",
       "      <td>/mnt/parscratch/users/acp21rjf/spotify/checkpo...</td>\n",
       "      <td>1</td>\n",
       "      <td>False</td>\n",
       "      <td>2048</td>\n",
       "      <td>0.875</td>\n",
       "      <td>SCConformerXL</td>\n",
       "      <td>-1</td>\n",
       "    </tr>\n",
       "  </tbody>\n",
       "</table>\n",
       "</div>"
      ],
      "text/plain": [
       "     Unnamed: 0         dataset split       wer            name  \\\n",
       "145           0  tedlium_concat   dev  0.077705  rb_n_seq_sched   \n",
       "146           0  tedlium_concat   dev  0.076932  rb_n_seq_sched   \n",
       "147           0  tedlium_concat   dev  0.071405  rb_n_seq_sched   \n",
       "\n",
       "                                            checkpoint  repeat  \\\n",
       "145  /mnt/parscratch/users/acp21rjf/spotify/checkpo...       1   \n",
       "146  /mnt/parscratch/users/acp21rjf/spotify/checkpo...       2   \n",
       "147  /mnt/parscratch/users/acp21rjf/spotify/checkpo...       1   \n",
       "\n",
       "     single_utterance  seq_len  overlap_ratio    model_class  cache_len  \n",
       "145             False     1024          0.875  SCConformerXL         -1  \n",
       "146             False     1024          0.875  SCConformerXL         -1  \n",
       "147             False     2048          0.875  SCConformerXL         -1  "
      ]
     },
     "execution_count": 21,
     "metadata": {},
     "output_type": "execute_result"
    }
   ],
   "source": [
    "csv.loc[csv['dataset'] == 'tedlium_concat'].loc[csv['split'] == 'dev']"
   ]
  },
  {
   "cell_type": "code",
   "execution_count": 24,
   "metadata": {},
   "outputs": [
    {
     "data": {
      "text/html": [
       "<div>\n",
       "<style scoped>\n",
       "    .dataframe tbody tr th:only-of-type {\n",
       "        vertical-align: middle;\n",
       "    }\n",
       "\n",
       "    .dataframe tbody tr th {\n",
       "        vertical-align: top;\n",
       "    }\n",
       "\n",
       "    .dataframe thead th {\n",
       "        text-align: right;\n",
       "    }\n",
       "</style>\n",
       "<table border=\"1\" class=\"dataframe\">\n",
       "  <thead>\n",
       "    <tr style=\"text-align: right;\">\n",
       "      <th></th>\n",
       "      <th>Unnamed: 0</th>\n",
       "      <th>dataset</th>\n",
       "      <th>split</th>\n",
       "      <th>wer</th>\n",
       "      <th>name</th>\n",
       "      <th>checkpoint</th>\n",
       "      <th>repeat</th>\n",
       "      <th>single_utterance</th>\n",
       "      <th>seq_len</th>\n",
       "      <th>overlap_ratio</th>\n",
       "      <th>model_class</th>\n",
       "      <th>cache_len</th>\n",
       "    </tr>\n",
       "  </thead>\n",
       "  <tbody>\n",
       "    <tr>\n",
       "      <th>121</th>\n",
       "      <td>0</td>\n",
       "      <td>tedlium</td>\n",
       "      <td>dev</td>\n",
       "      <td>0.077595</td>\n",
       "      <td>rb_n_seq_sched</td>\n",
       "      <td>/mnt/parscratch/users/acp21rjf/spotify/checkpo...</td>\n",
       "      <td>1</td>\n",
       "      <td>False</td>\n",
       "      <td>1024</td>\n",
       "      <td>0.875</td>\n",
       "      <td>SCConformerXL</td>\n",
       "      <td>-1</td>\n",
       "    </tr>\n",
       "    <tr>\n",
       "      <th>122</th>\n",
       "      <td>0</td>\n",
       "      <td>tedlium</td>\n",
       "      <td>dev</td>\n",
       "      <td>0.078369</td>\n",
       "      <td>rb_n_seq_sched</td>\n",
       "      <td>/mnt/parscratch/users/acp21rjf/spotify/checkpo...</td>\n",
       "      <td>2</td>\n",
       "      <td>False</td>\n",
       "      <td>1024</td>\n",
       "      <td>0.875</td>\n",
       "      <td>SCConformerXL</td>\n",
       "      <td>-1</td>\n",
       "    </tr>\n",
       "  </tbody>\n",
       "</table>\n",
       "</div>"
      ],
      "text/plain": [
       "     Unnamed: 0  dataset split       wer            name  \\\n",
       "121           0  tedlium   dev  0.077595  rb_n_seq_sched   \n",
       "122           0  tedlium   dev  0.078369  rb_n_seq_sched   \n",
       "\n",
       "                                            checkpoint  repeat  \\\n",
       "121  /mnt/parscratch/users/acp21rjf/spotify/checkpo...       1   \n",
       "122  /mnt/parscratch/users/acp21rjf/spotify/checkpo...       2   \n",
       "\n",
       "     single_utterance  seq_len  overlap_ratio    model_class  cache_len  \n",
       "121             False     1024          0.875  SCConformerXL         -1  \n",
       "122             False     1024          0.875  SCConformerXL         -1  "
      ]
     },
     "execution_count": 24,
     "metadata": {},
     "output_type": "execute_result"
    }
   ],
   "source": [
    "csv.loc[csv['dataset'] == 'tedlium'].loc[csv['split'] == 'dev'].loc[csv['seq_len'] == 1024]"
   ]
  },
  {
   "cell_type": "code",
   "execution_count": 20,
   "metadata": {},
   "outputs": [
    {
     "name": "stdout",
     "output_type": "stream",
     "text": [
      "[4096, 8192, 16384, 32768, 65536, 360000, 2048, 131072, 1024, 262144]\n",
      "Sequence length 4096 has 0 results\n",
      "Sequence length 8192 has 0 results\n",
      "Sequence length 16384 has 0 results\n",
      "Sequence length 32768 has 0 results\n",
      "Sequence length 65536 has 0 results\n",
      "Sequence length 360000 has 0 results\n",
      "Sequence length 2048 has 1 results\n",
      "Sequence length 131072 has 0 results\n",
      "Sequence length 1024 has 2 results\n",
      "Sequence length 262144 has 0 results\n"
     ]
    }
   ],
   "source": [
    "seq_lens = csv['seq_len'].unique().tolist()\n",
    "print(seq_lens)\n",
    "\n",
    "out_data_wd = {}\n",
    "out_data_rb = {}\n",
    "out_data = {}\n",
    "for seq_len in seq_lens:\n",
    "    sset = csv.loc[csv['dataset'] == 'tedlium_concat'].loc[csv['split'] == 'dev'].loc[csv['seq_len'] == seq_len]\n",
    "    if len(sset) == 3:\n",
    "        out_data[seq_len] = {'wer': sset['wer'].mean()*100, 'std': sset['wer'].std()*100}\n",
    "    else:\n",
    "        print(f'Sequence length {seq_len} has {len(sset)} results')\n",
    "    # wdsset = sset.loc[sset['name'].str.startswith('w')]\n",
    "    # out_data_wd[seq_len] = {'wer': wdsset['wer'].mean()*100, 'std': wdsset['wer'].std()*100}\n",
    "    # rbset = sset.loc[sset['name'].str.startswith('rb')]\n",
    "    # out_data_rb[seq_len] = {'wer': rbset['wer'].mean()*100, 'std': rbset['wer'].std()*100}"
   ]
  },
  {
   "cell_type": "code",
   "execution_count": 14,
   "metadata": {},
   "outputs": [],
   "source": [
    "def get_percentage_decrease_json(json, min_key=2048):\n",
    "    min_val = json[min_key]['wer']\n",
    "    out = {}\n",
    "    for key in json:\n",
    "        if key != min_key:\n",
    "            out[key] = (min_val - json[key]['wer']) / min_val * 100\n",
    "    return out"
   ]
  },
  {
   "cell_type": "code",
   "execution_count": 19,
   "metadata": {},
   "outputs": [
    {
     "data": {
      "text/plain": [
       "{}"
      ]
     },
     "execution_count": 19,
     "metadata": {},
     "output_type": "execute_result"
    }
   ],
   "source": [
    "out_data"
   ]
  },
  {
   "cell_type": "code",
   "execution_count": 92,
   "metadata": {},
   "outputs": [],
   "source": [
    "rev16 = out_data"
   ]
  },
  {
   "cell_type": "code",
   "execution_count": 90,
   "metadata": {},
   "outputs": [],
   "source": [
    "tedlium_test = out_data"
   ]
  },
  {
   "cell_type": "code",
   "execution_count": 88,
   "metadata": {},
   "outputs": [],
   "source": [
    "earnings_test = out_data"
   ]
  },
  {
   "cell_type": "code",
   "execution_count": 104,
   "metadata": {},
   "outputs": [
    {
     "data": {
      "text/plain": [
       "{4096: {'wer': 6.516628271014234, 'std': 0.08344598445938176},\n",
       " 8192: {'wer': 6.406757634827807, 'std': 0.09571565526861074},\n",
       " 16384: {'wer': 6.372496898812684, 'std': 0.14544238545938923},\n",
       " 32768: {'wer': 6.2366353594423725, 'std': 0.060286376382177445},\n",
       " 65536: {'wer': 6.19528619528619, 'std': 0.03683255305835054},\n",
       " 360000: {'wer': 6.1385787701577135, 'std': 0.09296386353786196},\n",
       " 2048: {'wer': 6.63240593065154, 'std': 0.09010486131806146},\n",
       " 131072: {'wer': 6.2000118140468965, 'std': 0.0909374701301986},\n",
       " 262144: {'wer': 6.247268001653961, 'std': 0.09251236080312614}}"
      ]
     },
     "execution_count": 104,
     "metadata": {},
     "output_type": "execute_result"
    }
   ],
   "source": [
    "tedlium_test"
   ]
  },
  {
   "cell_type": "code",
   "execution_count": 115,
   "metadata": {},
   "outputs": [
    {
     "data": {
      "text/plain": [
       "[<matplotlib.lines.Line2D at 0x7f3ecb1127c0>]"
      ]
     },
     "execution_count": 115,
     "metadata": {},
     "output_type": "execute_result"
    },
    {
     "data": {
      "image/png": "[encoded data removed]",
      "text/plain": [
       "<Figure size 432x288 with 1 Axes>"
      ]
     },
     "metadata": {
      "needs_background": "light"
     },
     "output_type": "display_data"
    }
   ],
   "source": [
    "plt.plot(sorted(tedlium_test.keys()), [tedlium_test[key]['wer'] for key in sorted(tedlium_test.keys())], label='TEDLIUM Test')"
   ]
  },
  {
   "cell_type": "code",
   "execution_count": 114,
   "metadata": {},
   "outputs": [
    {
     "data": {
      "text/plain": [
       "[<matplotlib.lines.Line2D at 0x7f3ecab6e490>]"
      ]
     },
     "execution_count": 114,
     "metadata": {},
     "output_type": "execute_result"
    },
    {
     "data": {
      "image/png": "[encoded data removed]",
      "text/plain": [
       "<Figure size 432x288 with 1 Axes>"
      ]
     },
     "metadata": {
      "needs_background": "light"
     },
     "output_type": "display_data"
    }
   ],
   "source": [
    "plt.plot(sorted(get_percentage_decrease_json(tedlium_test).keys()), sorted(get_percentage_decrease_json(tedlium_test).values()), label='TEDLIUM Test', marker='o')"
   ]
  },
  {
   "cell_type": "code",
   "execution_count": 120,
   "metadata": {},
   "outputs": [
    {
     "data": {
      "text/plain": [
       "32768"
      ]
     },
     "execution_count": 120,
     "metadata": {},
     "output_type": "execute_result"
    }
   ],
   "source": [
    "2**15"
   ]
  },
  {
   "cell_type": "code",
   "execution_count": 145,
   "metadata": {},
   "outputs": [
    {
     "name": "stderr",
     "output_type": "stream",
     "text": [
      "/tmp/ipykernel_6990/527104691.py:1: MatplotlibDeprecationWarning: The 'basex' parameter of __init__() has been renamed 'base' since Matplotlib 3.3; support for the old name will be dropped two minor releases later.\n",
      "  plt.xscale('log', basex=2)\n"
     ]
    },
    {
     "data": {
      "image/png": "[encoded data removed]",
      "text/plain": [
       "<Figure size 432x288 with 1 Axes>"
      ]
     },
     "metadata": {
      "needs_background": "light"
     },
     "output_type": "display_data"
    }
   ],
   "source": [
    "plt.xscale('log', basex=2)\n",
    "plt.plot([el/100 for el in sorted(get_percentage_decrease_json(earnings_test).keys())], [get_percentage_decrease_json(earnings_test)[key] for key in sorted(get_percentage_decrease_json(earnings_test).keys())], label='Earnings-22', marker='o', markersize=4)\n",
    "plt.plot([el/100 for el in sorted(get_percentage_decrease_json(tedlium_test).keys())], [get_percentage_decrease_json(tedlium_test)[key] for key in sorted(get_percentage_decrease_json(tedlium_test).keys())], label='Tedlium', marker='o', markersize=4)\n",
    "plt.plot([el/100 for el in sorted(get_percentage_decrease_json(tedlium_test).keys())], [get_percentage_decrease_json(rev16)[key] for key in sorted(get_percentage_decrease_json(tedlium_test).keys())], label='Rev16', marker='o', markersize=4)\n",
    "\n",
    "plt.legend()\n",
    "plt.xlabel('Sequence length (seconds)')\n",
    "plt.ylabel('WER reduction (%) from 20s')\n",
    "plt.savefig('werr_rb_across_datasets.pdf', bbox_inches='tight') \n",
    "plt.show()"
   ]
  },
  {
   "cell_type": "code",
   "execution_count": 61,
   "metadata": {},
   "outputs": [
    {
     "data": {
      "text/plain": [
       "{4096: {'wer': 19.720333040595275, 'std': 0.27550147126807834},\n",
       " 8192: {'wer': 19.47661159106536, 'std': 0.10006167270516933},\n",
       " 16384: {'wer': 19.286672249113277, 'std': 0.31272326112818755},\n",
       " 2048: {'wer': 20.557700031996948, 'std': 0.20077883544219124},\n",
       " 32768: {'wer': 19.091967403958087, 'std': 0.27479400653754593},\n",
       " 360000: {'wer': 19.20497790848872, 'std': 0.4342514014723085},\n",
       " 65536: {'wer': 19.000061270755467, 'std': 0.06429375748502734},\n",
       " 131072: {'wer': 18.922451647162138, 'std': 0.07077884709336803},\n",
       " 262144: {'wer': 19.456868792081092, 'std': 0.35305245312601996}}"
      ]
     },
     "execution_count": 61,
     "metadata": {},
     "output_type": "execute_result"
    }
   ],
   "source": [
    "no_pos"
   ]
  },
  {
   "cell_type": "code",
   "execution_count": 64,
   "metadata": {},
   "outputs": [],
   "source": [
    "no_pos = out_data"
   ]
  },
  {
   "cell_type": "code",
   "execution_count": 22,
   "metadata": {},
   "outputs": [],
   "source": [
    "rotary_pos = out_data"
   ]
  },
  {
   "cell_type": "code",
   "execution_count": 25,
   "metadata": {},
   "outputs": [],
   "source": [
    "fourier_pos = out_data"
   ]
  },
  {
   "cell_type": "code",
   "execution_count": 133,
   "metadata": {},
   "outputs": [],
   "source": [
    "original_results_earnings_test = [\n",
    "    20.53, 19.44, 19.24, 18.67, 18.70, 18.61, 18.81\n",
    "]\n",
    "seq_lens = [1024, 2048, 4096, 8192, 16384, 32768, 360000]"
   ]
  },
  {
   "cell_type": "code",
   "execution_count": 134,
   "metadata": {},
   "outputs": [
    {
     "data": {
      "text/plain": [
       "131072"
      ]
     },
     "execution_count": 134,
     "metadata": {},
     "output_type": "execute_result"
    }
   ],
   "source": [
    "2**17"
   ]
  },
  {
   "cell_type": "code",
   "execution_count": 141,
   "metadata": {},
   "outputs": [
    {
     "name": "stderr",
     "output_type": "stream",
     "text": [
      "/tmp/ipykernel_6990/1112176954.py:2: MatplotlibDeprecationWarning: The 'basex' parameter of __init__() has been renamed 'base' since Matplotlib 3.3; support for the old name will be dropped two minor releases later.\n",
      "  plt.xscale('log', basex=2)\n"
     ]
    },
    {
     "data": {
      "image/png": "[encoded data removed]",
      "text/plain": [
       "<Figure size 432x288 with 1 Axes>"
      ]
     },
     "metadata": {
      "needs_background": "light"
     },
     "output_type": "display_data"
    }
   ],
   "source": [
    "# log scale\n",
    "plt.xscale('log', basex=2)\n",
    "plt.plot([el/100 for el in sorted(fourier_pos.keys())], [fourier_pos[k]['wer'] for k in sorted(fourier_pos.keys())], label='Fourier', marker='o', markersize=4)\n",
    "plt.plot([el/100 for el in sorted(rotary_pos.keys())], [rotary_pos[k]['wer'] for k in sorted(rotary_pos.keys())], label='Rotary (rotation frequency 1.5M)', marker='o', markersize=4)\n",
    "plt.plot([el/100 for el in sorted(no_pos.keys())], [no_pos[k]['wer'] for k in sorted(no_pos.keys())], label='No positional encoding', marker='o', markersize=4)\n",
    "plt.plot([el/100 for el in seq_lens], original_results_earnings_test, label='Rotary (rotation frequency 10k)', marker='o', markersize=4)\n",
    "plt.xlabel('Sequence length (seconds)')\n",
    "plt.ylabel('Word error rate (%)')\n",
    "plt.legend()\n",
    "plt.savefig('wer_pos_earnings.pdf', bbox_inches='tight')\n",
    "plt.show()"
   ]
  },
  {
   "cell_type": "code",
   "execution_count": null,
   "metadata": {},
   "outputs": [],
   "source": []
  },
  {
   "cell_type": "code",
   "execution_count": 9,
   "metadata": {},
   "outputs": [
    {
     "data": {
      "text/plain": [
       "{}"
      ]
     },
     "execution_count": 9,
     "metadata": {},
     "output_type": "execute_result"
    }
   ],
   "source": [
    "out_data_rb"
   ]
  },
  {
   "cell_type": "code",
   "execution_count": 10,
   "metadata": {},
   "outputs": [],
   "source": [
    "original_results_earnings_test = [\n",
    "    20.53, 19.44, 19.24, 18.67, 18.70, 18.61, 18.81\n",
    "]\n",
    "seq_lens = [1024, 2048, 4096, 8192, 16384, 32768, 360000]"
   ]
  },
  {
   "cell_type": "code",
   "execution_count": 11,
   "metadata": {},
   "outputs": [
    {
     "data": {
      "text/plain": [
       "<matplotlib.legend.Legend at 0x7f3c9852ef70>"
      ]
     },
     "execution_count": 11,
     "metadata": {},
     "output_type": "execute_result"
    },
    {
     "data": {
      "image/png": "[encoded data removed]",
      "text/plain": [
       "<Figure size 432x288 with 1 Axes>"
      ]
     },
     "metadata": {
      "needs_background": "light"
     },
     "output_type": "display_data"
    }
   ],
   "source": [
    "# log x axis\n",
    "plt.xscale('log')\n",
    "# add dots at each point\n",
    "plt.plot([el / 100 for el in seq_lens], original_results_earnings_test, label='Base Frequency 10K', marker='o')\n",
    "plt.plot([el /100 for el in list(out_data.keys())], [out_data[k]['wer'] for k in out_data.keys()], label='Base Frequency 1.5M', marker='o')\n",
    "# add dot\n",
    "plt.xlabel('Sequence Length (seconds)')\n",
    "plt.ylabel('Word Error Rate (%)')\n",
    "plt.legend()\n",
    "#plt.savefig(\"rb_comparison.pdf\")"
   ]
  },
  {
   "cell_type": "code",
   "execution_count": null,
   "metadata": {},
   "outputs": [],
   "source": []
  },
  {
   "cell_type": "code",
   "execution_count": null,
   "metadata": {},
   "outputs": [],
   "source": []
  }
 ],
 "metadata": {
  "kernelspec": {
   "display_name": "ML",
   "language": "python",
   "name": "python3"
  },
  "language_info": {
   "codemirror_mode": {
    "name": "ipython",
    "version": 3
   },
   "file_extension": ".py",
   "mimetype": "text/x-python",
   "name": "python",
   "nbconvert_exporter": "python",
   "pygments_lexer": "ipython3",
   "version": "3.8.11"
  }
 },
 "nbformat": 4,
 "nbformat_minor": 2
}
