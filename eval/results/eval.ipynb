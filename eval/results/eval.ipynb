{
 "cells": [
  {
   "cell_type": "code",
   "execution_count": 2,
   "metadata": {},
   "outputs": [],
   "source": [
    "def get_percentage_decrease_json(json, min_key=1024):\n",
    "    min_val = json[min_key]['wer']\n",
    "    out = {}\n",
    "    for key in json:\n",
    "        if key != min_key:\n",
    "            out[key] = (min_val - json[key]['wer']) / min_val * 100\n",
    "    return out\n",
    "\n",
    "def get_data(df, dataset='earnings22', split='test', return_all=False):\n",
    "    seq_lens = df['seq_len'].unique().tolist()\n",
    "    print(seq_lens)\n",
    "\n",
    "    out_data = {}\n",
    "    for seq_len in seq_lens:\n",
    "        sset = df.loc[df['dataset'] == dataset].loc[df['split'] == split].loc[df['seq_len'] == seq_len]\n",
    "        if not return_all:\n",
    "            out_data[seq_len] = {'wer': sset['wer'].mean()*100, 'std': sset['wer'].std()*100}\n",
    "        else:\n",
    "            out_data[seq_len] = [el*100 for el in sset['wer'].tolist()]\n",
    "        if len(sset) != 3:\n",
    "            print(f'Sequence length {seq_len} has {len(sset)} results')\n",
    "    return out_data"
   ]
  },
  {
   "cell_type": "code",
   "execution_count": 3,
   "metadata": {},
   "outputs": [
    {
     "name": "stdout",
     "output_type": "stream",
     "text": [
      "[Errno 2] No such file or directory: './Stanage/users/acp21rjf/long-context-asr/eval/results'\n",
      "/home/robertflynn/Stanage/users/acp21rjf/long-context-asr/eval/results\n"
     ]
    }
   ],
   "source": [
    "%cd ./Stanage/users/acp21rjf/long-context-asr/eval/results"
   ]
  },
  {
   "cell_type": "code",
   "execution_count": 4,
   "metadata": {},
   "outputs": [
    {
     "name": "stdout",
     "output_type": "stream",
     "text": [
      "augmentation.pdf\t     evals_rb_sp2.csv\n",
      "eval_config_wd.yaml\t     evals_rotary_pos_3l.csv\n",
      "eval.ipynb\t\t     evals_rotary_pos_6l_256d.csv\n",
      "evals_fourier_pos.csv\t     evals_wd.csv\n",
      "evals_fourier_pos_spec1.csv  model_sizes.pdf\n",
      "evals_no_rotary.csv\t     wer_pos_earnings.pdf\n",
      "evals_rb.csv\t\t     werr_rb_across_datasets.pdf\n",
      "evals_rb_sp1.csv\n"
     ]
    }
   ],
   "source": [
    "!ls"
   ]
  },
  {
   "cell_type": "code",
   "execution_count": 5,
   "metadata": {},
   "outputs": [],
   "source": [
    "import pandas as pd, matplotlib.pyplot as plt, numpy as np"
   ]
  },
  {
   "cell_type": "code",
   "execution_count": 6,
   "metadata": {},
   "outputs": [],
   "source": [
    "csv = pd.read_csv('evals_rb_sp2.csv', sep=',')"
   ]
  },
  {
   "cell_type": "code",
   "execution_count": 7,
   "metadata": {},
   "outputs": [
    {
     "ename": "NameError",
     "evalue": "name 'csv1' is not defined",
     "output_type": "error",
     "traceback": [
      "\u001b[0;31m---------------------------------------------------------------------------\u001b[0m",
      "\u001b[0;31mNameError\u001b[0m                                 Traceback (most recent call last)",
      "\u001b[0;32m/tmp/ipykernel_9375/2949177667.py\u001b[0m in \u001b[0;36m<module>\u001b[0;34m\u001b[0m\n\u001b[0;32m----> 1\u001b[0;31m \u001b[0mcsv1\u001b[0m\u001b[0;34m\u001b[0m\u001b[0;34m\u001b[0m\u001b[0m\n\u001b[0m",
      "\u001b[0;31mNameError\u001b[0m: name 'csv1' is not defined"
     ]
    }
   ],
   "source": [
    "csv1"
   ]
  },
  {
   "cell_type": "code",
   "execution_count": 9,
   "metadata": {},
   "outputs": [
    {
     "name": "stdout",
     "output_type": "stream",
     "text": [
      "[1024, 2048, 4096, 8192, 16384, 32768, 65536, 131072, 262144, 360000]\n",
      "Sequence length 1024 has 2 results\n",
      "Sequence length 4096 has 2 results\n",
      "Sequence length 8192 has 2 results\n",
      "Sequence length 32768 has 2 results\n",
      "Sequence length 65536 has 1 results\n",
      "Sequence length 262144 has 2 results\n",
      "Sequence length 360000 has 2 results\n",
      "[2048, 4096, 8192, 16384, 32768, 65536, 131072, 262144, 360000, 1024]\n"
     ]
    },
    {
     "name": "stderr",
     "output_type": "stream",
     "text": [
      "/tmp/ipykernel_9375/3014625091.py:19: MatplotlibDeprecationWarning: The 'basex' parameter of __init__() has been renamed 'base' since Matplotlib 3.3; support for the old name will be dropped two minor releases later.\n",
      "  plt.xscale('log', basex=2)\n"
     ]
    },
    {
     "data": {
      "image/png": "[encoded data removed]",
      "text/plain": [
       "<Figure size 432x288 with 1 Axes>"
      ]
     },
     "metadata": {
      "needs_background": "light"
     },
     "output_type": "display_data"
    }
   ],
   "source": [
    "csv1 = pd.read_csv('evals_fourier_pos_spec1.csv', sep=',')\n",
    "csv2 = pd.read_csv('evals_fourier_pos.csv', sep=',')\n",
    "\n",
    "dataset = 'earnings22'\n",
    "split = 'test'\n",
    "csv1_data = csv1.loc[csv1['dataset'] == dataset ].loc[csv1['split'] == split]\n",
    "csv2_data = csv2.loc[csv2['dataset'] == dataset ].loc[csv2['split'] == split]\n",
    "seq_lens = [512*2**(i+1) for i in range(9)] + [360000]\n",
    "\n",
    "csv1_vals = [csv1_data.loc[csv1_data['seq_len'] == seq_len].wer.mean() for seq_len in seq_lens]\n",
    "csv2_vals = [csv2_data.loc[csv2_data['seq_len'] == seq_len].wer.mean() for seq_len in seq_lens]\n",
    "\n",
    "csv1_data_dict = {seq_len: {'wer':csv1_data.loc[csv1_data['seq_len'] == seq_len].wer.mean()} for seq_len in seq_lens}\n",
    "csv2_data_dict = {seq_len: {'wer':csv2_data.loc[csv2_data['seq_len'] == seq_len].wer.mean()} for seq_len in seq_lens}\n",
    "\n",
    "c1 = get_data(csv1, dataset='earnings22', split='test')\n",
    "c2 = get_data(csv2, dataset='earnings22', split='test')\n",
    "\n",
    "plt.xscale('log', basex=2)\n",
    "plt.plot([el/100 for el in seq_lens], [csv1_data_dict[seq_len]['wer']*100 for seq_len in seq_lens], label='Frequency + Time Masking', marker='o', markersize=4)\n",
    "plt.plot([el/100 for el in seq_lens], [csv2_data_dict[seq_len]['wer']*100 for seq_len in seq_lens], label='No Augmention', marker='o', markersize=4)\n",
    "plt.legend()\n",
    "plt.xlabel('Sequence length (seconds)')\n",
    "plt.ylabel('Word Error Rate (%)')\n",
    "plt.savefig('augmentation.pdf', bbox_inches='tight')\n",
    "plt.show()\n",
    "\n",
    "\n",
    "# csv1_decrease_from2 = {}\n",
    "# for key in c1:\n",
    "#     csv1_decrease_from2[key] = (c2[key]['wer'] - c1[key]['wer']) / c2[key]['wer'] * 100\n",
    "\n",
    "# plt.xscale('log', basex=2)\n",
    "# plt.plot([el/100 for el in seq_lens], [csv1_decrease_from2[seq_len] for seq_len in seq_lens], label='Frequency + Time Masking', marker='o', markersize=4)\n"
   ]
  },
  {
   "cell_type": "code",
   "execution_count": 10,
   "metadata": {},
   "outputs": [
    {
     "data": {
      "text/plain": [
       "{1024: {'wer': 0.24837121908379792},\n",
       " 2048: {'wer': 0.23808454002682292},\n",
       " 4096: {'wer': 0.23526608527527582},\n",
       " 8192: {'wer': 0.22955428929327584},\n",
       " 16384: {'wer': 0.22752554650109943},\n",
       " 32768: {'wer': 0.22679710529719718},\n",
       " 65536: {'wer': 0.2259052754120458},\n",
       " 131072: {'wer': 0.22339317443784076},\n",
       " 262144: {'wer': 0.23145027878193736},\n",
       " 360000: {'wer': 0.22849907072687542}}"
      ]
     },
     "execution_count": 10,
     "metadata": {},
     "output_type": "execute_result"
    }
   ],
   "source": [
    "csv1_data_dict"
   ]
  },
  {
   "cell_type": "code",
   "execution_count": 11,
   "metadata": {},
   "outputs": [
    {
     "name": "stdout",
     "output_type": "stream",
     "text": [
      "[2048, 4096, 16384, 32768, 65536, 131072, 262144, 360000]\n",
      "Sequence length 4096 has 2 results\n",
      "Sequence length 16384 has 2 results\n",
      "Sequence length 32768 has 2 results\n",
      "Sequence length 65536 has 1 results\n",
      "Sequence length 131072 has 2 results\n",
      "Sequence length 262144 has 2 results\n",
      "Sequence length 360000 has 2 results\n"
     ]
    },
    {
     "data": {
      "text/plain": [
       "{2048: [23.55247840205869, 23.66685047893307, 24.38780303494475],\n",
       " 4096: [23.41564038151257, 23.42789453260625],\n",
       " 16384: [22.70489961807895, 22.8008904683128],\n",
       " 32768: [22.772297449094207, 23.10724424565488],\n",
       " 65536: [22.892796601515432],\n",
       " 131072: [23.07660886792067, 23.46669934440291],\n",
       " 262144: [23.48712292955905, 23.090905377529968],\n",
       " 360000: [23.16851500112329, 23.27063292690399]}"
      ]
     },
     "execution_count": 11,
     "metadata": {},
     "output_type": "execute_result"
    }
   ],
   "source": [
    "get_data(df=csv3, dataset='earnings22', split='test',  return_all=True)\n"
   ]
  },
  {
   "cell_type": "code",
   "execution_count": 12,
   "metadata": {},
   "outputs": [
    {
     "data": {
      "text/plain": [
       "{1024: {'wer': 24.837121908379793, 'std': 0.3199861578799223},\n",
       " 2048: {'wer': 23.808454002682293, 'std': 0.08475992893392471},\n",
       " 4096: {'wer': 23.526608527527582, 'std': 0.15017007236228969},\n",
       " 8192: {'wer': 22.955428929327585, 'std': 0.47976011542341856},\n",
       " 16384: {'wer': 22.752554650109943, 'std': 0.13204970552701595},\n",
       " 32768: {'wer': 22.679710529719717, 'std': 0.10761375464003588},\n",
       " 65536: {'wer': 22.423054142924247, 'std': 0.34016767107571483},\n",
       " 131072: {'wer': 22.339317443784076, 'std': 0.23940937357770925},\n",
       " 262144: {'wer': 23.079332012608155, 'std': 0.4664736715355962},\n",
       " 360000: {'wer': 22.86216122378123, 'std': 0.28875367117083917}}"
      ]
     },
     "execution_count": 12,
     "metadata": {},
     "output_type": "execute_result"
    }
   ],
   "source": [
    "csv1_data_dict"
   ]
  },
  {
   "cell_type": "code",
   "execution_count": 10,
   "metadata": {},
   "outputs": [
    {
     "name": "stdout",
     "output_type": "stream",
     "text": [
      "[1024, 2048, 4096, 8192, 16384, 32768, 65536, 131072, 262144, 360000]\n",
      "[4096, 8192, 16384, 32768, 65536, 360000, 2048, 131072, 1024, 262144]\n",
      "[2048, 4096, 16384, 32768, 65536, 131072, 262144, 360000]\n",
      "Sequence length 4096 has 2 results\n",
      "Sequence length 16384 has 2 results\n",
      "Sequence length 32768 has 2 results\n",
      "Sequence length 65536 has 1 results\n",
      "Sequence length 131072 has 2 results\n",
      "Sequence length 262144 has 2 results\n",
      "Sequence length 360000 has 2 results\n"
     ]
    },
    {
     "name": "stderr",
     "output_type": "stream",
     "text": [
      "/tmp/ipykernel_9375/2579542243.py:11: MatplotlibDeprecationWarning: The 'basex' parameter of __init__() has been renamed 'base' since Matplotlib 3.3; support for the old name will be dropped two minor releases later.\n",
      "  plt.xscale('log', basex=2)\n"
     ]
    },
    {
     "data": {
      "image/png": "[encoded data removed]",
      "text/plain": [
       "<Figure size 432x288 with 1 Axes>"
      ]
     },
     "metadata": {
      "needs_background": "light"
     },
     "output_type": "display_data"
    }
   ],
   "source": [
    "csv1 = pd.read_csv('evals_rotary_pos_3l.csv', sep=',')\n",
    "csv2 = pd.read_csv('evals_rb.csv', sep=',')\n",
    "csv3 = pd.read_csv('evals_rotary_pos_6l_256d.csv', sep=',')\n",
    "\n",
    "seq_lens = [512*2**(i+1) for i in range(9)] + [360000]\n",
    "\n",
    "csv1_data_dict = get_data(df=csv1, dataset='earnings22', split='test')\n",
    "csv2_data_dict = get_data(df=csv2, dataset='earnings22', split='test')\n",
    "csv3_data_dict = get_data(df=csv3, dataset='earnings22', split='test')\n",
    "\n",
    "plt.xscale('log', basex=2)\n",
    "plt.plot([el/100 for el in seq_lens[1:]], [get_percentage_decrease_json(csv1_data_dict, min_key=1024)[seq_len] for seq_len in seq_lens[1:]], label='3 Layers, 768 Dim', marker='o', markersize=4)\n",
    "plt.plot([el/100 for el in seq_lens[1:]], [get_percentage_decrease_json(csv2_data_dict, min_key=1024)[seq_len] for seq_len in seq_lens[1:]], label='6 Layers, 768 Dim', marker='o', markersize=4)\n",
    "\n",
    "plt.legend()\n",
    "plt.xlabel('Sequence length (seconds)')\n",
    "plt.ylabel('WER reduction (%) from 10s')\n",
    "plt.savefig('model_sizes.pdf', bbox_inches='tight')\n",
    "plt.show()\n"
   ]
  },
  {
   "cell_type": "code",
   "execution_count": 66,
   "metadata": {},
   "outputs": [
    {
     "data": {
      "text/html": [
       "<div>\n",
       "<style scoped>\n",
       "    .dataframe tbody tr th:only-of-type {\n",
       "        vertical-align: middle;\n",
       "    }\n",
       "\n",
       "    .dataframe tbody tr th {\n",
       "        vertical-align: top;\n",
       "    }\n",
       "\n",
       "    .dataframe thead th {\n",
       "        text-align: right;\n",
       "    }\n",
       "</style>\n",
       "<table border=\"1\" class=\"dataframe\">\n",
       "  <thead>\n",
       "    <tr style=\"text-align: right;\">\n",
       "      <th></th>\n",
       "      <th>Unnamed: 0</th>\n",
       "      <th>dataset</th>\n",
       "      <th>split</th>\n",
       "      <th>wer</th>\n",
       "      <th>name</th>\n",
       "      <th>checkpoint</th>\n",
       "      <th>repeat</th>\n",
       "      <th>single_utterance</th>\n",
       "      <th>seq_len</th>\n",
       "      <th>overlap_ratio</th>\n",
       "      <th>model_class</th>\n",
       "      <th>cache_len</th>\n",
       "    </tr>\n",
       "  </thead>\n",
       "  <tbody>\n",
       "    <tr>\n",
       "      <th>0</th>\n",
       "      <td>0</td>\n",
       "      <td>earnings22</td>\n",
       "      <td>dev</td>\n",
       "      <td>0.311783</td>\n",
       "      <td>rotary_pos_3l</td>\n",
       "      <td>/mnt/parscratch/users/acp21rjf/spotify/rotary_...</td>\n",
       "      <td>1</td>\n",
       "      <td>False</td>\n",
       "      <td>1024</td>\n",
       "      <td>0.875</td>\n",
       "      <td>SCConformerXL</td>\n",
       "      <td>-1</td>\n",
       "    </tr>\n",
       "    <tr>\n",
       "      <th>1</th>\n",
       "      <td>0</td>\n",
       "      <td>earnings22</td>\n",
       "      <td>dev</td>\n",
       "      <td>0.306965</td>\n",
       "      <td>rotary_pos_3l</td>\n",
       "      <td>/mnt/parscratch/users/acp21rjf/spotify/rotary_...</td>\n",
       "      <td>2</td>\n",
       "      <td>False</td>\n",
       "      <td>1024</td>\n",
       "      <td>0.875</td>\n",
       "      <td>SCConformerXL</td>\n",
       "      <td>-1</td>\n",
       "    </tr>\n",
       "    <tr>\n",
       "      <th>2</th>\n",
       "      <td>0</td>\n",
       "      <td>earnings22</td>\n",
       "      <td>dev</td>\n",
       "      <td>0.320083</td>\n",
       "      <td>rotary_pos_3l</td>\n",
       "      <td>/mnt/parscratch/users/acp21rjf/spotify/rotary_...</td>\n",
       "      <td>3</td>\n",
       "      <td>False</td>\n",
       "      <td>1024</td>\n",
       "      <td>0.875</td>\n",
       "      <td>SCConformerXL</td>\n",
       "      <td>-1</td>\n",
       "    </tr>\n",
       "    <tr>\n",
       "      <th>3</th>\n",
       "      <td>0</td>\n",
       "      <td>earnings22</td>\n",
       "      <td>dev</td>\n",
       "      <td>0.300701</td>\n",
       "      <td>rotary_pos_3l</td>\n",
       "      <td>/mnt/parscratch/users/acp21rjf/spotify/rotary_...</td>\n",
       "      <td>1</td>\n",
       "      <td>False</td>\n",
       "      <td>2048</td>\n",
       "      <td>0.875</td>\n",
       "      <td>SCConformerXL</td>\n",
       "      <td>-1</td>\n",
       "    </tr>\n",
       "    <tr>\n",
       "      <th>4</th>\n",
       "      <td>0</td>\n",
       "      <td>earnings22</td>\n",
       "      <td>dev</td>\n",
       "      <td>0.297832</td>\n",
       "      <td>rotary_pos_3l</td>\n",
       "      <td>/mnt/parscratch/users/acp21rjf/spotify/rotary_...</td>\n",
       "      <td>2</td>\n",
       "      <td>False</td>\n",
       "      <td>2048</td>\n",
       "      <td>0.875</td>\n",
       "      <td>SCConformerXL</td>\n",
       "      <td>-1</td>\n",
       "    </tr>\n",
       "    <tr>\n",
       "      <th>5</th>\n",
       "      <td>0</td>\n",
       "      <td>earnings22</td>\n",
       "      <td>dev</td>\n",
       "      <td>0.301161</td>\n",
       "      <td>rotary_pos_3l</td>\n",
       "      <td>/mnt/parscratch/users/acp21rjf/spotify/rotary_...</td>\n",
       "      <td>3</td>\n",
       "      <td>False</td>\n",
       "      <td>2048</td>\n",
       "      <td>0.875</td>\n",
       "      <td>SCConformerXL</td>\n",
       "      <td>-1</td>\n",
       "    </tr>\n",
       "    <tr>\n",
       "      <th>6</th>\n",
       "      <td>0</td>\n",
       "      <td>earnings22</td>\n",
       "      <td>dev</td>\n",
       "      <td>0.300438</td>\n",
       "      <td>rotary_pos_3l</td>\n",
       "      <td>/mnt/parscratch/users/acp21rjf/spotify/rotary_...</td>\n",
       "      <td>1</td>\n",
       "      <td>False</td>\n",
       "      <td>4096</td>\n",
       "      <td>0.875</td>\n",
       "      <td>SCConformerXL</td>\n",
       "      <td>-1</td>\n",
       "    </tr>\n",
       "    <tr>\n",
       "      <th>7</th>\n",
       "      <td>0</td>\n",
       "      <td>earnings22</td>\n",
       "      <td>dev</td>\n",
       "      <td>0.294525</td>\n",
       "      <td>rotary_pos_3l</td>\n",
       "      <td>/mnt/parscratch/users/acp21rjf/spotify/rotary_...</td>\n",
       "      <td>2</td>\n",
       "      <td>False</td>\n",
       "      <td>4096</td>\n",
       "      <td>0.875</td>\n",
       "      <td>SCConformerXL</td>\n",
       "      <td>-1</td>\n",
       "    </tr>\n",
       "    <tr>\n",
       "      <th>8</th>\n",
       "      <td>0</td>\n",
       "      <td>earnings22</td>\n",
       "      <td>dev</td>\n",
       "      <td>0.299978</td>\n",
       "      <td>rotary_pos_3l</td>\n",
       "      <td>/mnt/parscratch/users/acp21rjf/spotify/rotary_...</td>\n",
       "      <td>3</td>\n",
       "      <td>False</td>\n",
       "      <td>4096</td>\n",
       "      <td>0.875</td>\n",
       "      <td>SCConformerXL</td>\n",
       "      <td>-1</td>\n",
       "    </tr>\n",
       "    <tr>\n",
       "      <th>9</th>\n",
       "      <td>0</td>\n",
       "      <td>earnings22</td>\n",
       "      <td>dev</td>\n",
       "      <td>0.288458</td>\n",
       "      <td>rotary_pos_3l</td>\n",
       "      <td>/mnt/parscratch/users/acp21rjf/spotify/rotary_...</td>\n",
       "      <td>1</td>\n",
       "      <td>False</td>\n",
       "      <td>8192</td>\n",
       "      <td>0.875</td>\n",
       "      <td>SCConformerXL</td>\n",
       "      <td>-1</td>\n",
       "    </tr>\n",
       "    <tr>\n",
       "      <th>10</th>\n",
       "      <td>0</td>\n",
       "      <td>earnings22</td>\n",
       "      <td>dev</td>\n",
       "      <td>0.288152</td>\n",
       "      <td>rotary_pos_3l</td>\n",
       "      <td>/mnt/parscratch/users/acp21rjf/spotify/rotary_...</td>\n",
       "      <td>2</td>\n",
       "      <td>False</td>\n",
       "      <td>8192</td>\n",
       "      <td>0.875</td>\n",
       "      <td>SCConformerXL</td>\n",
       "      <td>-1</td>\n",
       "    </tr>\n",
       "    <tr>\n",
       "      <th>11</th>\n",
       "      <td>0</td>\n",
       "      <td>earnings22</td>\n",
       "      <td>dev</td>\n",
       "      <td>0.292948</td>\n",
       "      <td>rotary_pos_3l</td>\n",
       "      <td>/mnt/parscratch/users/acp21rjf/spotify/rotary_...</td>\n",
       "      <td>3</td>\n",
       "      <td>False</td>\n",
       "      <td>8192</td>\n",
       "      <td>0.875</td>\n",
       "      <td>SCConformerXL</td>\n",
       "      <td>-1</td>\n",
       "    </tr>\n",
       "  </tbody>\n",
       "</table>\n",
       "</div>"
      ],
      "text/plain": [
       "    Unnamed: 0     dataset split       wer           name  \\\n",
       "0            0  earnings22   dev  0.311783  rotary_pos_3l   \n",
       "1            0  earnings22   dev  0.306965  rotary_pos_3l   \n",
       "2            0  earnings22   dev  0.320083  rotary_pos_3l   \n",
       "3            0  earnings22   dev  0.300701  rotary_pos_3l   \n",
       "4            0  earnings22   dev  0.297832  rotary_pos_3l   \n",
       "5            0  earnings22   dev  0.301161  rotary_pos_3l   \n",
       "6            0  earnings22   dev  0.300438  rotary_pos_3l   \n",
       "7            0  earnings22   dev  0.294525  rotary_pos_3l   \n",
       "8            0  earnings22   dev  0.299978  rotary_pos_3l   \n",
       "9            0  earnings22   dev  0.288458  rotary_pos_3l   \n",
       "10           0  earnings22   dev  0.288152  rotary_pos_3l   \n",
       "11           0  earnings22   dev  0.292948  rotary_pos_3l   \n",
       "\n",
       "                                           checkpoint  repeat  \\\n",
       "0   /mnt/parscratch/users/acp21rjf/spotify/rotary_...       1   \n",
       "1   /mnt/parscratch/users/acp21rjf/spotify/rotary_...       2   \n",
       "2   /mnt/parscratch/users/acp21rjf/spotify/rotary_...       3   \n",
       "3   /mnt/parscratch/users/acp21rjf/spotify/rotary_...       1   \n",
       "4   /mnt/parscratch/users/acp21rjf/spotify/rotary_...       2   \n",
       "5   /mnt/parscratch/users/acp21rjf/spotify/rotary_...       3   \n",
       "6   /mnt/parscratch/users/acp21rjf/spotify/rotary_...       1   \n",
       "7   /mnt/parscratch/users/acp21rjf/spotify/rotary_...       2   \n",
       "8   /mnt/parscratch/users/acp21rjf/spotify/rotary_...       3   \n",
       "9   /mnt/parscratch/users/acp21rjf/spotify/rotary_...       1   \n",
       "10  /mnt/parscratch/users/acp21rjf/spotify/rotary_...       2   \n",
       "11  /mnt/parscratch/users/acp21rjf/spotify/rotary_...       3   \n",
       "\n",
       "    single_utterance  seq_len  overlap_ratio    model_class  cache_len  \n",
       "0              False     1024          0.875  SCConformerXL         -1  \n",
       "1              False     1024          0.875  SCConformerXL         -1  \n",
       "2              False     1024          0.875  SCConformerXL         -1  \n",
       "3              False     2048          0.875  SCConformerXL         -1  \n",
       "4              False     2048          0.875  SCConformerXL         -1  \n",
       "5              False     2048          0.875  SCConformerXL         -1  \n",
       "6              False     4096          0.875  SCConformerXL         -1  \n",
       "7              False     4096          0.875  SCConformerXL         -1  \n",
       "8              False     4096          0.875  SCConformerXL         -1  \n",
       "9              False     8192          0.875  SCConformerXL         -1  \n",
       "10             False     8192          0.875  SCConformerXL         -1  \n",
       "11             False     8192          0.875  SCConformerXL         -1  "
      ]
     },
     "execution_count": 66,
     "metadata": {},
     "output_type": "execute_result"
    }
   ],
   "source": [
    "csv.loc[csv['dataset'] == 'earnings22'].loc[csv['split'] == 'dev']"
   ]
  },
  {
   "cell_type": "code",
   "execution_count": 25,
   "metadata": {},
   "outputs": [
    {
     "name": "stdout",
     "output_type": "stream",
     "text": [
      "[4096, 8192, 16384, 32768, 65536, 360000, 2048, 131072, 1024, 262144]\n",
      "[4096, 8192, 16384, 32768, 65536, 360000, 2048, 131072, 1024, 262144]\n",
      "[4096, 8192, 16384, 32768, 65536, 360000, 2048, 131072, 1024, 262144]\n"
     ]
    },
    {
     "name": "stderr",
     "output_type": "stream",
     "text": [
      "/tmp/ipykernel_7966/4089147132.py:5: MatplotlibDeprecationWarning: The 'basex' parameter of __init__() has been renamed 'base' since Matplotlib 3.3; support for the old name will be dropped two minor releases later.\n",
      "  plt.xscale('log', basex=2)\n"
     ]
    },
    {
     "data": {
      "image/png": "[encoded data removed]",
      "text/plain": [
       "<Figure size 432x288 with 1 Axes>"
      ]
     },
     "metadata": {
      "needs_background": "light"
     },
     "output_type": "display_data"
    }
   ],
   "source": [
    "earnings_test = get_data(pd.read_csv('evals_rb.csv', sep=','))\n",
    "tedlium_test = get_data(pd.read_csv('evals_rb.csv', sep=','), dataset='tedlium')\n",
    "rev16 = get_data(pd.read_csv('evals_rb.csv', sep=','), dataset='rev16')\n",
    "\n",
    "plt.xscale('log', basex=2)\n",
    "plt.plot([el/100 for el in sorted(get_percentage_decrease_json(earnings_test).keys())], [get_percentage_decrease_json(earnings_test)[key] for key in sorted(get_percentage_decrease_json(earnings_test).keys())], label='Earnings-22', marker='o', markersize=4)\n",
    "plt.plot([el/100 for el in sorted(get_percentage_decrease_json(tedlium_test).keys()) if el<=131072], [get_percentage_decrease_json(tedlium_test)[key] for key in sorted(get_percentage_decrease_json(tedlium_test).keys()) if key<=131072], label='Tedlium', marker='o', markersize=4)\n",
    "plt.plot([el/100 for el in sorted(get_percentage_decrease_json(rev16).keys())], [get_percentage_decrease_json(rev16)[key] for key in sorted(get_percentage_decrease_json(tedlium_test).keys())], label='Rev16', marker='o', markersize=4)\n",
    "\n",
    "plt.legend()\n",
    "plt.xlabel('Sequence length (seconds)')\n",
    "plt.ylabel('WER reduction (%) from 20s')\n",
    "plt.savefig('werr_rb_across_datasets.pdf', bbox_inches='tight') \n",
    "plt.show()"
   ]
  },
  {
   "cell_type": "code",
   "execution_count": 61,
   "metadata": {},
   "outputs": [
    {
     "data": {
      "text/plain": [
       "{4096: {'wer': 19.720333040595275, 'std': 0.27550147126807834},\n",
       " 8192: {'wer': 19.47661159106536, 'std': 0.10006167270516933},\n",
       " 16384: {'wer': 19.286672249113277, 'std': 0.31272326112818755},\n",
       " 2048: {'wer': 20.557700031996948, 'std': 0.20077883544219124},\n",
       " 32768: {'wer': 19.091967403958087, 'std': 0.27479400653754593},\n",
       " 360000: {'wer': 19.20497790848872, 'std': 0.4342514014723085},\n",
       " 65536: {'wer': 19.000061270755467, 'std': 0.06429375748502734},\n",
       " 131072: {'wer': 18.922451647162138, 'std': 0.07077884709336803},\n",
       " 262144: {'wer': 19.456868792081092, 'std': 0.35305245312601996}}"
      ]
     },
     "execution_count": 61,
     "metadata": {},
     "output_type": "execute_result"
    }
   ],
   "source": [
    "no_pos"
   ]
  },
  {
   "cell_type": "code",
   "execution_count": 140,
   "metadata": {},
   "outputs": [],
   "source": [
    "original_results_earnings_test = [\n",
    "    20.53, 19.44, 19.24, 18.67, 18.70, 18.61, 18.81\n",
    "]\n",
    "seq_lens = [1024, 2048, 4096, 8192, 16384, 32768, 360000]"
   ]
  },
  {
   "cell_type": "code",
   "execution_count": 134,
   "metadata": {},
   "outputs": [
    {
     "data": {
      "text/plain": [
       "131072"
      ]
     },
     "execution_count": 134,
     "metadata": {},
     "output_type": "execute_result"
    }
   ],
   "source": [
    "2**17"
   ]
  },
  {
   "cell_type": "code",
   "execution_count": 141,
   "metadata": {},
   "outputs": [
    {
     "name": "stdout",
     "output_type": "stream",
     "text": [
      "eval_config_wd.yaml\t    evals_rb_sp2.csv\n",
      "eval.ipynb\t\t    evals_rotary_pos_3l.csv\n",
      "evals_fourier_pos.csv\t    evals_wd.csv\n",
      "evals_fourier_pos_spec1csv  model_sizes.pdf\n",
      "evals_no_rotary.csv\t    wer_pos_earnings.pdf\n",
      "evals_rb.csv\t\t    werr_rb_across_datasets.pdf\n",
      "evals_rb_sp1.csv\n"
     ]
    }
   ],
   "source": [
    "!ls"
   ]
  },
  {
   "cell_type": "code",
   "execution_count": 73,
   "metadata": {},
   "outputs": [
    {
     "data": {
      "text/html": [
       "<div>\n",
       "<style scoped>\n",
       "    .dataframe tbody tr th:only-of-type {\n",
       "        vertical-align: middle;\n",
       "    }\n",
       "\n",
       "    .dataframe tbody tr th {\n",
       "        vertical-align: top;\n",
       "    }\n",
       "\n",
       "    .dataframe thead th {\n",
       "        text-align: right;\n",
       "    }\n",
       "</style>\n",
       "<table border=\"1\" class=\"dataframe\">\n",
       "  <thead>\n",
       "    <tr style=\"text-align: right;\">\n",
       "      <th></th>\n",
       "      <th>Unnamed: 0</th>\n",
       "      <th>dataset</th>\n",
       "      <th>split</th>\n",
       "      <th>wer</th>\n",
       "      <th>name</th>\n",
       "      <th>checkpoint</th>\n",
       "      <th>repeat</th>\n",
       "      <th>single_utterance</th>\n",
       "      <th>seq_len</th>\n",
       "      <th>overlap_ratio</th>\n",
       "      <th>model_class</th>\n",
       "      <th>cache_len</th>\n",
       "    </tr>\n",
       "  </thead>\n",
       "  <tbody>\n",
       "    <tr>\n",
       "      <th>0</th>\n",
       "      <td>0</td>\n",
       "      <td>earnings22</td>\n",
       "      <td>dev</td>\n",
       "      <td>0.257753</td>\n",
       "      <td>no_rotary</td>\n",
       "      <td>/mnt/parscratch/users/acp21rjf/spotify/no_rota...</td>\n",
       "      <td>1</td>\n",
       "      <td>False</td>\n",
       "      <td>4096</td>\n",
       "      <td>0.875</td>\n",
       "      <td>SCConformerXL</td>\n",
       "      <td>-1</td>\n",
       "    </tr>\n",
       "    <tr>\n",
       "      <th>1</th>\n",
       "      <td>0</td>\n",
       "      <td>earnings22</td>\n",
       "      <td>dev</td>\n",
       "      <td>0.250810</td>\n",
       "      <td>no_rotary</td>\n",
       "      <td>/mnt/parscratch/users/acp21rjf/spotify/no_rota...</td>\n",
       "      <td>3</td>\n",
       "      <td>False</td>\n",
       "      <td>4096</td>\n",
       "      <td>0.875</td>\n",
       "      <td>SCConformerXL</td>\n",
       "      <td>-1</td>\n",
       "    </tr>\n",
       "    <tr>\n",
       "      <th>2</th>\n",
       "      <td>0</td>\n",
       "      <td>earnings22</td>\n",
       "      <td>dev</td>\n",
       "      <td>0.256110</td>\n",
       "      <td>no_rotary</td>\n",
       "      <td>/mnt/parscratch/users/acp21rjf/spotify/no_rota...</td>\n",
       "      <td>1</td>\n",
       "      <td>False</td>\n",
       "      <td>8192</td>\n",
       "      <td>0.875</td>\n",
       "      <td>SCConformerXL</td>\n",
       "      <td>-1</td>\n",
       "    </tr>\n",
       "    <tr>\n",
       "      <th>3</th>\n",
       "      <td>0</td>\n",
       "      <td>earnings22</td>\n",
       "      <td>dev</td>\n",
       "      <td>0.250745</td>\n",
       "      <td>no_rotary</td>\n",
       "      <td>/mnt/parscratch/users/acp21rjf/spotify/no_rota...</td>\n",
       "      <td>2</td>\n",
       "      <td>False</td>\n",
       "      <td>8192</td>\n",
       "      <td>0.875</td>\n",
       "      <td>SCConformerXL</td>\n",
       "      <td>-1</td>\n",
       "    </tr>\n",
       "    <tr>\n",
       "      <th>4</th>\n",
       "      <td>0</td>\n",
       "      <td>earnings22</td>\n",
       "      <td>dev</td>\n",
       "      <td>0.247919</td>\n",
       "      <td>no_rotary</td>\n",
       "      <td>/mnt/parscratch/users/acp21rjf/spotify/no_rota...</td>\n",
       "      <td>3</td>\n",
       "      <td>False</td>\n",
       "      <td>8192</td>\n",
       "      <td>0.875</td>\n",
       "      <td>SCConformerXL</td>\n",
       "      <td>-1</td>\n",
       "    </tr>\n",
       "    <tr>\n",
       "      <th>...</th>\n",
       "      <td>...</td>\n",
       "      <td>...</td>\n",
       "      <td>...</td>\n",
       "      <td>...</td>\n",
       "      <td>...</td>\n",
       "      <td>...</td>\n",
       "      <td>...</td>\n",
       "      <td>...</td>\n",
       "      <td>...</td>\n",
       "      <td>...</td>\n",
       "      <td>...</td>\n",
       "      <td>...</td>\n",
       "    </tr>\n",
       "    <tr>\n",
       "      <th>143</th>\n",
       "      <td>0</td>\n",
       "      <td>rev16</td>\n",
       "      <td>test</td>\n",
       "      <td>0.147264</td>\n",
       "      <td>no_rotary</td>\n",
       "      <td>/mnt/parscratch/users/acp21rjf/spotify/no_rota...</td>\n",
       "      <td>2</td>\n",
       "      <td>False</td>\n",
       "      <td>65536</td>\n",
       "      <td>0.875</td>\n",
       "      <td>SCConformerXL</td>\n",
       "      <td>-1</td>\n",
       "    </tr>\n",
       "    <tr>\n",
       "      <th>144</th>\n",
       "      <td>0</td>\n",
       "      <td>rev16</td>\n",
       "      <td>test</td>\n",
       "      <td>0.148939</td>\n",
       "      <td>no_rotary</td>\n",
       "      <td>/mnt/parscratch/users/acp21rjf/spotify/no_rota...</td>\n",
       "      <td>3</td>\n",
       "      <td>False</td>\n",
       "      <td>262144</td>\n",
       "      <td>0.875</td>\n",
       "      <td>SCConformerXL</td>\n",
       "      <td>-1</td>\n",
       "    </tr>\n",
       "    <tr>\n",
       "      <th>145</th>\n",
       "      <td>0</td>\n",
       "      <td>earnings22</td>\n",
       "      <td>dev</td>\n",
       "      <td>0.275405</td>\n",
       "      <td>no_rotary</td>\n",
       "      <td>/mnt/parscratch/users/acp21rjf/spotify/no_rota...</td>\n",
       "      <td>3</td>\n",
       "      <td>False</td>\n",
       "      <td>1024</td>\n",
       "      <td>0.875</td>\n",
       "      <td>SCConformerXL</td>\n",
       "      <td>-1</td>\n",
       "    </tr>\n",
       "    <tr>\n",
       "      <th>146</th>\n",
       "      <td>0</td>\n",
       "      <td>earnings22</td>\n",
       "      <td>test</td>\n",
       "      <td>0.208443</td>\n",
       "      <td>no_rotary</td>\n",
       "      <td>/mnt/parscratch/users/acp21rjf/spotify/no_rota...</td>\n",
       "      <td>3</td>\n",
       "      <td>False</td>\n",
       "      <td>1024</td>\n",
       "      <td>0.875</td>\n",
       "      <td>SCConformerXL</td>\n",
       "      <td>-1</td>\n",
       "    </tr>\n",
       "    <tr>\n",
       "      <th>147</th>\n",
       "      <td>0</td>\n",
       "      <td>tedlium</td>\n",
       "      <td>dev</td>\n",
       "      <td>0.083453</td>\n",
       "      <td>no_rotary</td>\n",
       "      <td>/mnt/parscratch/users/acp21rjf/spotify/no_rota...</td>\n",
       "      <td>3</td>\n",
       "      <td>False</td>\n",
       "      <td>1024</td>\n",
       "      <td>0.875</td>\n",
       "      <td>SCConformerXL</td>\n",
       "      <td>-1</td>\n",
       "    </tr>\n",
       "  </tbody>\n",
       "</table>\n",
       "<p>148 rows × 12 columns</p>\n",
       "</div>"
      ],
      "text/plain": [
       "     Unnamed: 0     dataset split       wer       name  \\\n",
       "0             0  earnings22   dev  0.257753  no_rotary   \n",
       "1             0  earnings22   dev  0.250810  no_rotary   \n",
       "2             0  earnings22   dev  0.256110  no_rotary   \n",
       "3             0  earnings22   dev  0.250745  no_rotary   \n",
       "4             0  earnings22   dev  0.247919  no_rotary   \n",
       "..          ...         ...   ...       ...        ...   \n",
       "143           0       rev16  test  0.147264  no_rotary   \n",
       "144           0       rev16  test  0.148939  no_rotary   \n",
       "145           0  earnings22   dev  0.275405  no_rotary   \n",
       "146           0  earnings22  test  0.208443  no_rotary   \n",
       "147           0     tedlium   dev  0.083453  no_rotary   \n",
       "\n",
       "                                            checkpoint  repeat  \\\n",
       "0    /mnt/parscratch/users/acp21rjf/spotify/no_rota...       1   \n",
       "1    /mnt/parscratch/users/acp21rjf/spotify/no_rota...       3   \n",
       "2    /mnt/parscratch/users/acp21rjf/spotify/no_rota...       1   \n",
       "3    /mnt/parscratch/users/acp21rjf/spotify/no_rota...       2   \n",
       "4    /mnt/parscratch/users/acp21rjf/spotify/no_rota...       3   \n",
       "..                                                 ...     ...   \n",
       "143  /mnt/parscratch/users/acp21rjf/spotify/no_rota...       2   \n",
       "144  /mnt/parscratch/users/acp21rjf/spotify/no_rota...       3   \n",
       "145  /mnt/parscratch/users/acp21rjf/spotify/no_rota...       3   \n",
       "146  /mnt/parscratch/users/acp21rjf/spotify/no_rota...       3   \n",
       "147  /mnt/parscratch/users/acp21rjf/spotify/no_rota...       3   \n",
       "\n",
       "     single_utterance  seq_len  overlap_ratio    model_class  cache_len  \n",
       "0               False     4096          0.875  SCConformerXL         -1  \n",
       "1               False     4096          0.875  SCConformerXL         -1  \n",
       "2               False     8192          0.875  SCConformerXL         -1  \n",
       "3               False     8192          0.875  SCConformerXL         -1  \n",
       "4               False     8192          0.875  SCConformerXL         -1  \n",
       "..                ...      ...            ...            ...        ...  \n",
       "143             False    65536          0.875  SCConformerXL         -1  \n",
       "144             False   262144          0.875  SCConformerXL         -1  \n",
       "145             False     1024          0.875  SCConformerXL         -1  \n",
       "146             False     1024          0.875  SCConformerXL         -1  \n",
       "147             False     1024          0.875  SCConformerXL         -1  \n",
       "\n",
       "[148 rows x 12 columns]"
      ]
     },
     "execution_count": 73,
     "metadata": {},
     "output_type": "execute_result"
    }
   ],
   "source": [
    "pd.read_csv('evals_no_rotary.csv', sep=',')"
   ]
  },
  {
   "cell_type": "code",
   "execution_count": 24,
   "metadata": {},
   "outputs": [
    {
     "data": {
      "text/plain": [
       "{4096: [20.037579396687292, 19.58213344770541, 19.54128627739313],\n",
       " 8192: [19.52494740926822, 19.36155872801911, 19.54332863590874],\n",
       " 16384: [19.19408532973878, 19.03069664848967, 19.63523476911137],\n",
       " 2048: [20.38273798582603, 20.51344893082531, 20.776913179339502],\n",
       " 32768: [18.84892674060004, 19.036823724036513, 19.39015174723771],\n",
       " 360000: [18.88160447684986, 19.6985478830954, 19.0347813655209],\n",
       " 65536: [18.981680044114942, 19.07154381880195, 18.94695994934951],\n",
       " 131072: [18.84075730653759, 18.9612564589588, 18.96534117599003],\n",
       " 262144: [19.29416089700386, 19.21450891489492, 19.8619365643445],\n",
       " 1024: [25.00868002369136, 22.75800093948491]}"
      ]
     },
     "execution_count": 24,
     "metadata": {},
     "output_type": "execute_result"
    }
   ],
   "source": [
    "no_pos"
   ]
  },
  {
   "cell_type": "code",
   "execution_count": 59,
   "metadata": {},
   "outputs": [
    {
     "name": "stdout",
     "output_type": "stream",
     "text": [
      "[4096, 8192, 16384, 2048, 32768, 360000, 65536, 131072, 262144, 1024]\n",
      "Sequence length 1024 has 2 results\n"
     ]
    },
    {
     "data": {
      "text/plain": [
       "{4096: {'wer': 25.49642283545043, 'std': 0.36671164412792195},\n",
       " 8192: {'wer': 25.159147320776754, 'std': 0.4160634246612562},\n",
       " 16384: {'wer': 24.73791794422543, 'std': 0.3940619570263112},\n",
       " 2048: {'wer': 26.852095196379032, 'std': 0.22352264478699332},\n",
       " 32768: {'wer': 24.315958534092562, 'std': 0.3724738361123087},\n",
       " 360000: {'wer': 24.60286173163965, 'std': 0.473033031795295},\n",
       " 65536: {'wer': 24.471455686961594, 'std': 0.07927842022233383},\n",
       " 131072: {'wer': 24.417433201927285, 'std': 0.1578848472423873},\n",
       " 262144: {'wer': 24.781719959118117, 'std': 0.5701852034552951},\n",
       " 1024: {'wer': 31.03372755146736, 'std': 1.8088057827987039}}"
      ]
     },
     "execution_count": 59,
     "metadata": {},
     "output_type": "execute_result"
    }
   ],
   "source": [
    "get_data(pd.read_csv('evals_no_rotary.csv', sep=','), split='dev', return_all=False)"
   ]
  },
  {
   "cell_type": "code",
   "execution_count": 80,
   "metadata": {},
   "outputs": [
    {
     "data": {
      "text/html": [
       "<div>\n",
       "<style scoped>\n",
       "    .dataframe tbody tr th:only-of-type {\n",
       "        vertical-align: middle;\n",
       "    }\n",
       "\n",
       "    .dataframe tbody tr th {\n",
       "        vertical-align: top;\n",
       "    }\n",
       "\n",
       "    .dataframe thead th {\n",
       "        text-align: right;\n",
       "    }\n",
       "</style>\n",
       "<table border=\"1\" class=\"dataframe\">\n",
       "  <thead>\n",
       "    <tr style=\"text-align: right;\">\n",
       "      <th></th>\n",
       "      <th>Unnamed: 0</th>\n",
       "      <th>dataset</th>\n",
       "      <th>split</th>\n",
       "      <th>wer</th>\n",
       "      <th>name</th>\n",
       "      <th>checkpoint</th>\n",
       "      <th>repeat</th>\n",
       "      <th>single_utterance</th>\n",
       "      <th>seq_len</th>\n",
       "      <th>overlap_ratio</th>\n",
       "      <th>model_class</th>\n",
       "      <th>cache_len</th>\n",
       "    </tr>\n",
       "  </thead>\n",
       "  <tbody>\n",
       "    <tr>\n",
       "      <th>0</th>\n",
       "      <td>0</td>\n",
       "      <td>earnings22</td>\n",
       "      <td>dev</td>\n",
       "      <td>0.257753</td>\n",
       "      <td>no_rotary</td>\n",
       "      <td>/mnt/parscratch/users/acp21rjf/spotify/no_rota...</td>\n",
       "      <td>1</td>\n",
       "      <td>False</td>\n",
       "      <td>4096</td>\n",
       "      <td>0.875</td>\n",
       "      <td>SCConformerXL</td>\n",
       "      <td>-1</td>\n",
       "    </tr>\n",
       "    <tr>\n",
       "      <th>1</th>\n",
       "      <td>0</td>\n",
       "      <td>earnings22</td>\n",
       "      <td>dev</td>\n",
       "      <td>0.250810</td>\n",
       "      <td>no_rotary</td>\n",
       "      <td>/mnt/parscratch/users/acp21rjf/spotify/no_rota...</td>\n",
       "      <td>3</td>\n",
       "      <td>False</td>\n",
       "      <td>4096</td>\n",
       "      <td>0.875</td>\n",
       "      <td>SCConformerXL</td>\n",
       "      <td>-1</td>\n",
       "    </tr>\n",
       "    <tr>\n",
       "      <th>2</th>\n",
       "      <td>0</td>\n",
       "      <td>earnings22</td>\n",
       "      <td>dev</td>\n",
       "      <td>0.256110</td>\n",
       "      <td>no_rotary</td>\n",
       "      <td>/mnt/parscratch/users/acp21rjf/spotify/no_rota...</td>\n",
       "      <td>1</td>\n",
       "      <td>False</td>\n",
       "      <td>8192</td>\n",
       "      <td>0.875</td>\n",
       "      <td>SCConformerXL</td>\n",
       "      <td>-1</td>\n",
       "    </tr>\n",
       "    <tr>\n",
       "      <th>3</th>\n",
       "      <td>0</td>\n",
       "      <td>earnings22</td>\n",
       "      <td>dev</td>\n",
       "      <td>0.250745</td>\n",
       "      <td>no_rotary</td>\n",
       "      <td>/mnt/parscratch/users/acp21rjf/spotify/no_rota...</td>\n",
       "      <td>2</td>\n",
       "      <td>False</td>\n",
       "      <td>8192</td>\n",
       "      <td>0.875</td>\n",
       "      <td>SCConformerXL</td>\n",
       "      <td>-1</td>\n",
       "    </tr>\n",
       "    <tr>\n",
       "      <th>4</th>\n",
       "      <td>0</td>\n",
       "      <td>earnings22</td>\n",
       "      <td>dev</td>\n",
       "      <td>0.247919</td>\n",
       "      <td>no_rotary</td>\n",
       "      <td>/mnt/parscratch/users/acp21rjf/spotify/no_rota...</td>\n",
       "      <td>3</td>\n",
       "      <td>False</td>\n",
       "      <td>8192</td>\n",
       "      <td>0.875</td>\n",
       "      <td>SCConformerXL</td>\n",
       "      <td>-1</td>\n",
       "    </tr>\n",
       "    <tr>\n",
       "      <th>...</th>\n",
       "      <td>...</td>\n",
       "      <td>...</td>\n",
       "      <td>...</td>\n",
       "      <td>...</td>\n",
       "      <td>...</td>\n",
       "      <td>...</td>\n",
       "      <td>...</td>\n",
       "      <td>...</td>\n",
       "      <td>...</td>\n",
       "      <td>...</td>\n",
       "      <td>...</td>\n",
       "      <td>...</td>\n",
       "    </tr>\n",
       "    <tr>\n",
       "      <th>143</th>\n",
       "      <td>0</td>\n",
       "      <td>rev16</td>\n",
       "      <td>test</td>\n",
       "      <td>0.147264</td>\n",
       "      <td>no_rotary</td>\n",
       "      <td>/mnt/parscratch/users/acp21rjf/spotify/no_rota...</td>\n",
       "      <td>2</td>\n",
       "      <td>False</td>\n",
       "      <td>65536</td>\n",
       "      <td>0.875</td>\n",
       "      <td>SCConformerXL</td>\n",
       "      <td>-1</td>\n",
       "    </tr>\n",
       "    <tr>\n",
       "      <th>144</th>\n",
       "      <td>0</td>\n",
       "      <td>rev16</td>\n",
       "      <td>test</td>\n",
       "      <td>0.148939</td>\n",
       "      <td>no_rotary</td>\n",
       "      <td>/mnt/parscratch/users/acp21rjf/spotify/no_rota...</td>\n",
       "      <td>3</td>\n",
       "      <td>False</td>\n",
       "      <td>262144</td>\n",
       "      <td>0.875</td>\n",
       "      <td>SCConformerXL</td>\n",
       "      <td>-1</td>\n",
       "    </tr>\n",
       "    <tr>\n",
       "      <th>145</th>\n",
       "      <td>0</td>\n",
       "      <td>earnings22</td>\n",
       "      <td>dev</td>\n",
       "      <td>0.275405</td>\n",
       "      <td>no_rotary</td>\n",
       "      <td>/mnt/parscratch/users/acp21rjf/spotify/no_rota...</td>\n",
       "      <td>3</td>\n",
       "      <td>False</td>\n",
       "      <td>1024</td>\n",
       "      <td>0.875</td>\n",
       "      <td>SCConformerXL</td>\n",
       "      <td>-1</td>\n",
       "    </tr>\n",
       "    <tr>\n",
       "      <th>146</th>\n",
       "      <td>0</td>\n",
       "      <td>earnings22</td>\n",
       "      <td>test</td>\n",
       "      <td>0.208443</td>\n",
       "      <td>no_rotary</td>\n",
       "      <td>/mnt/parscratch/users/acp21rjf/spotify/no_rota...</td>\n",
       "      <td>3</td>\n",
       "      <td>False</td>\n",
       "      <td>1024</td>\n",
       "      <td>0.875</td>\n",
       "      <td>SCConformerXL</td>\n",
       "      <td>-1</td>\n",
       "    </tr>\n",
       "    <tr>\n",
       "      <th>147</th>\n",
       "      <td>0</td>\n",
       "      <td>tedlium</td>\n",
       "      <td>dev</td>\n",
       "      <td>0.083453</td>\n",
       "      <td>no_rotary</td>\n",
       "      <td>/mnt/parscratch/users/acp21rjf/spotify/no_rota...</td>\n",
       "      <td>3</td>\n",
       "      <td>False</td>\n",
       "      <td>1024</td>\n",
       "      <td>0.875</td>\n",
       "      <td>SCConformerXL</td>\n",
       "      <td>-1</td>\n",
       "    </tr>\n",
       "  </tbody>\n",
       "</table>\n",
       "<p>148 rows × 12 columns</p>\n",
       "</div>"
      ],
      "text/plain": [
       "     Unnamed: 0     dataset split       wer       name  \\\n",
       "0             0  earnings22   dev  0.257753  no_rotary   \n",
       "1             0  earnings22   dev  0.250810  no_rotary   \n",
       "2             0  earnings22   dev  0.256110  no_rotary   \n",
       "3             0  earnings22   dev  0.250745  no_rotary   \n",
       "4             0  earnings22   dev  0.247919  no_rotary   \n",
       "..          ...         ...   ...       ...        ...   \n",
       "143           0       rev16  test  0.147264  no_rotary   \n",
       "144           0       rev16  test  0.148939  no_rotary   \n",
       "145           0  earnings22   dev  0.275405  no_rotary   \n",
       "146           0  earnings22  test  0.208443  no_rotary   \n",
       "147           0     tedlium   dev  0.083453  no_rotary   \n",
       "\n",
       "                                            checkpoint  repeat  \\\n",
       "0    /mnt/parscratch/users/acp21rjf/spotify/no_rota...       1   \n",
       "1    /mnt/parscratch/users/acp21rjf/spotify/no_rota...       3   \n",
       "2    /mnt/parscratch/users/acp21rjf/spotify/no_rota...       1   \n",
       "3    /mnt/parscratch/users/acp21rjf/spotify/no_rota...       2   \n",
       "4    /mnt/parscratch/users/acp21rjf/spotify/no_rota...       3   \n",
       "..                                                 ...     ...   \n",
       "143  /mnt/parscratch/users/acp21rjf/spotify/no_rota...       2   \n",
       "144  /mnt/parscratch/users/acp21rjf/spotify/no_rota...       3   \n",
       "145  /mnt/parscratch/users/acp21rjf/spotify/no_rota...       3   \n",
       "146  /mnt/parscratch/users/acp21rjf/spotify/no_rota...       3   \n",
       "147  /mnt/parscratch/users/acp21rjf/spotify/no_rota...       3   \n",
       "\n",
       "     single_utterance  seq_len  overlap_ratio    model_class  cache_len  \n",
       "0               False     4096          0.875  SCConformerXL         -1  \n",
       "1               False     4096          0.875  SCConformerXL         -1  \n",
       "2               False     8192          0.875  SCConformerXL         -1  \n",
       "3               False     8192          0.875  SCConformerXL         -1  \n",
       "4               False     8192          0.875  SCConformerXL         -1  \n",
       "..                ...      ...            ...            ...        ...  \n",
       "143             False    65536          0.875  SCConformerXL         -1  \n",
       "144             False   262144          0.875  SCConformerXL         -1  \n",
       "145             False     1024          0.875  SCConformerXL         -1  \n",
       "146             False     1024          0.875  SCConformerXL         -1  \n",
       "147             False     1024          0.875  SCConformerXL         -1  \n",
       "\n",
       "[148 rows x 12 columns]"
      ]
     },
     "execution_count": 80,
     "metadata": {},
     "output_type": "execute_result"
    }
   ],
   "source": [
    "pd.read_csv('evals_no_rotary.csv', sep=',')"
   ]
  },
  {
   "cell_type": "code",
   "execution_count": 76,
   "metadata": {},
   "outputs": [
    {
     "name": "stdout",
     "output_type": "stream",
     "text": [
      "[4096, 8192, 16384, 2048, 32768, 360000, 65536, 131072, 262144, 1024]\n"
     ]
    },
    {
     "data": {
      "text/plain": [
       "{4096: [20.037579396687292, 19.58213344770541, 19.54128627739313],\n",
       " 8192: [19.52494740926822, 19.36155872801911, 19.54332863590874],\n",
       " 16384: [19.19408532973878, 19.03069664848967, 19.63523476911137],\n",
       " 2048: [20.38273798582603, 20.51344893082531, 20.776913179339502],\n",
       " 32768: [18.84892674060004, 19.036823724036513, 19.39015174723771],\n",
       " 360000: [18.88160447684986, 19.6985478830954, 19.0347813655209],\n",
       " 65536: [18.981680044114942, 19.07154381880195, 18.94695994934951],\n",
       " 131072: [18.84075730653759, 18.9612564589588, 18.96534117599003],\n",
       " 262144: [19.29416089700386, 19.21450891489492, 19.8619365643445],\n",
       " 1024: [25.00868002369136, 22.75800093948491, 20.844311010354748]}"
      ]
     },
     "execution_count": 76,
     "metadata": {},
     "output_type": "execute_result"
    }
   ],
   "source": [
    "get_data(pd.read_csv('evals_no_rotary.csv', sep=','), split='test', return_all=True)"
   ]
  },
  {
   "cell_type": "code",
   "execution_count": 13,
   "metadata": {},
   "outputs": [
    {
     "name": "stdout",
     "output_type": "stream",
     "text": [
      "[2048, 4096, 8192, 16384, 32768, 65536, 131072, 262144, 360000, 1024]\n",
      "[4096, 8192, 16384, 32768, 65536, 360000, 2048, 131072, 1024, 262144]\n",
      "[4096, 8192, 16384, 2048, 32768, 360000, 65536, 131072, 262144, 1024]\n"
     ]
    },
    {
     "name": "stderr",
     "output_type": "stream",
     "text": [
      "/tmp/ipykernel_9375/3039974584.py:11: MatplotlibDeprecationWarning: The 'basex' parameter of __init__() has been renamed 'base' since Matplotlib 3.3; support for the old name will be dropped two minor releases later.\n",
      "  plt.xscale('log', basex=2)\n"
     ]
    },
    {
     "data": {
      "image/png": "[encoded data removed]",
      "text/plain": [
       "<Figure size 432x288 with 1 Axes>"
      ]
     },
     "metadata": {
      "needs_background": "light"
     },
     "output_type": "display_data"
    }
   ],
   "source": [
    "fourier_pos = get_data(pd.read_csv('evals_fourier_pos.csv', sep=','), split='test')\n",
    "rotary_pos = get_data(pd.read_csv('evals_rb.csv', sep=','), split='test')\n",
    "no_pos = get_data(pd.read_csv('evals_no_rotary.csv', sep=','), split='test') # DELETE 1 and 2!!\n",
    "\n",
    "original_results_earnings_test = [\n",
    "    20.53, 19.44, 19.24, 18.67, 18.70, 18.61, 18.81\n",
    "]\n",
    "seq_lens = [1024, 2048, 4096, 8192, 16384, 32768, 360000]\n",
    "\n",
    "# log scale\n",
    "plt.xscale('log', basex=2)\n",
    "plt.plot([el/100 for el in sorted(fourier_pos.keys())], [fourier_pos[k]['wer'] for k in sorted(fourier_pos.keys())], label='Fourier', marker='o', markersize=4)\n",
    "plt.plot([el/100 for el in sorted(no_pos.keys())], [no_pos[k]['wer'] for k in sorted(no_pos.keys())], label='No positional encoding', marker='o', markersize=4)\n",
    "plt.plot([el/100 for el in sorted(rotary_pos.keys())], [rotary_pos[k]['wer'] for k in sorted(rotary_pos.keys())], label='Rotary (θ = 1.5M)', marker='o', markersize=4)\n",
    "plt.plot([el/100 for el in seq_lens], original_results_earnings_test, label='Rotary (θ = 10k)', marker='o', markersize=4)\n",
    "plt.xlabel('Sequence length (seconds)')\n",
    "plt.ylabel('Word error rate (%)')\n",
    "plt.legend()\n",
    "plt.savefig('wer_pos_earnings.pdf', bbox_inches='tight')\n",
    "plt.show()"
   ]
  },
  {
   "cell_type": "code",
   "execution_count": null,
   "metadata": {},
   "outputs": [],
   "source": []
  },
  {
   "cell_type": "code",
   "execution_count": 9,
   "metadata": {},
   "outputs": [
    {
     "data": {
      "text/plain": [
       "{}"
      ]
     },
     "execution_count": 9,
     "metadata": {},
     "output_type": "execute_result"
    }
   ],
   "source": [
    "out_data_rb"
   ]
  },
  {
   "cell_type": "code",
   "execution_count": 10,
   "metadata": {},
   "outputs": [],
   "source": [
    "original_results_earnings_test = [\n",
    "    20.53, 19.44, 19.24, 18.67, 18.70, 18.61, 18.81\n",
    "]\n",
    "seq_lens = [1024, 2048, 4096, 8192, 16384, 32768, 360000]"
   ]
  },
  {
   "cell_type": "code",
   "execution_count": null,
   "metadata": {},
   "outputs": [],
   "source": []
  },
  {
   "cell_type": "code",
   "execution_count": null,
   "metadata": {},
   "outputs": [],
   "source": []
  }
 ],
 "metadata": {
  "kernelspec": {
   "display_name": "ML",
   "language": "python",
   "name": "python3"
  },
  "language_info": {
   "codemirror_mode": {
    "name": "ipython",
    "version": 3
   },
   "file_extension": ".py",
   "mimetype": "text/x-python",
   "name": "python",
   "nbconvert_exporter": "python",
   "pygments_lexer": "ipython3",
   "version": "3.8.11"
  }
 },
 "nbformat": 4,
 "nbformat_minor": 2
}
